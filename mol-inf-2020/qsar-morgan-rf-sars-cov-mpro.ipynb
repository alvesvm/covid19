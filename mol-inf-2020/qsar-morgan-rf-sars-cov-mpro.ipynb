{
 "cells": [
  {
   "cell_type": "markdown",
   "metadata": {},
   "source": [
    "# QSAR models for 3C-like protease main protease (M<sup>pro</sup>) of SARS-CoV"
   ]
  },
  {
   "cell_type": "markdown",
   "metadata": {},
   "source": [
    "Models in this workflow were built using Morgan fingerprints. They were kept in a separate workflow from SiRMS and Dragon descriptors in case anyone would like to reuse these models."
   ]
  },
  {
   "cell_type": "markdown",
   "metadata": {},
   "source": [
    "## Importing modules and functions"
   ]
  },
  {
   "cell_type": "code",
   "execution_count": 1,
   "metadata": {},
   "outputs": [
    {
     "name": "stderr",
     "output_type": "stream",
     "text": [
      "RDKit WARNING: [15:26:06] Enabling RDKit 2019.09.3 jupyter extensions\n"
     ]
    },
    {
     "data": {
      "text/html": [
       "<style>.container { width:90% !important; }</style>"
      ],
      "text/plain": [
       "<IPython.core.display.HTML object>"
      ]
     },
     "metadata": {},
     "output_type": "display_data"
    }
   ],
   "source": [
    "import numpy as np\n",
    "import pandas as pd\n",
    "import seaborn as sns\n",
    "import matplotlib.pyplot as plt\n",
    "import _pickle as cPickle\n",
    "import gzip\n",
    "\n",
    "from BalanceBySim import *\n",
    "from stats import *\n",
    "\n",
    "from collections import Counter\n",
    "\n",
    "from rdkit import Chem\n",
    "from rdkit.Chem import AllChem\n",
    "from rdkit.Chem import Draw\n",
    "from rdkit.Chem import PandasTools\n",
    "from rdkit.Chem.Draw import IPythonConsole\n",
    "\n",
    "from sklearn import metrics\n",
    "from sklearn.ensemble import RandomForestClassifier\n",
    "from sklearn.feature_selection import VarianceThreshold\n",
    "from sklearn.model_selection import train_test_split, cross_validate, GridSearchCV\n",
    "from sklearn.model_selection import permutation_test_score, StratifiedKFold\n",
    "\n",
    "def warn(*args, **kwargs):\n",
    "    pass\n",
    "import warnings\n",
    "warnings.filterwarnings(\"ignore\")\n",
    "warnings.warn = warn\n",
    "\n",
    "from IPython.core.interactiveshell import InteractiveShell\n",
    "InteractiveShell.ast_node_interactivity = \"all\"\n",
    "%matplotlib inline\n",
    "%reload_ext autoreload\n",
    "%autoreload 2\n",
    "Draw.DrawingOptions.atomLabelFontFace = \"DejaVu Sans\"\n",
    "Draw.DrawingOptions.atomLabelFontSize = 18\n",
    "\n",
    "from IPython.core.display import display, HTML\n",
    "display(HTML(\"<style>.container { width:90% !important; }</style>\"))"
   ]
  },
  {
   "cell_type": "markdown",
   "metadata": {},
   "source": [
    "## Load data"
   ]
  },
  {
   "cell_type": "code",
   "execution_count": 2,
   "metadata": {},
   "outputs": [
    {
     "name": "stdout",
     "output_type": "stream",
     "text": [
      "Original data:  (113, 11)\n",
      "Kept data:  (113, 11)\n"
     ]
    },
    {
     "data": {
      "text/html": [
       "<div>\n",
       "<style scoped>\n",
       "    .dataframe tbody tr th:only-of-type {\n",
       "        vertical-align: middle;\n",
       "    }\n",
       "\n",
       "    .dataframe tbody tr th {\n",
       "        vertical-align: top;\n",
       "    }\n",
       "\n",
       "    .dataframe thead th {\n",
       "        text-align: right;\n",
       "    }\n",
       "</style>\n",
       "<table border=\"1\" class=\"dataframe\">\n",
       "  <thead>\n",
       "    <tr style=\"text-align: right;\">\n",
       "      <th></th>\n",
       "      <th>Compound_name</th>\n",
       "      <th>Standard Type</th>\n",
       "      <th>Standard Relation</th>\n",
       "      <th>Standard Value</th>\n",
       "      <th>Standard Units</th>\n",
       "      <th>Outcome</th>\n",
       "      <th>InChIKey</th>\n",
       "      <th>Molecule ChEMBL ID</th>\n",
       "      <th>ID</th>\n",
       "      <th>SMILES</th>\n",
       "      <th>Mol</th>\n",
       "    </tr>\n",
       "  </thead>\n",
       "  <tbody>\n",
       "    <tr>\n",
       "      <th>0</th>\n",
       "      <td></td>\n",
       "      <td>IC50</td>\n",
       "      <td>=</td>\n",
       "      <td>5700.0</td>\n",
       "      <td>nM</td>\n",
       "      <td>Active</td>\n",
       "      <td>AEYIBAPLFDNVGD-UHFFFAOYNA-N</td>\n",
       "      <td></td>\n",
       "      <td></td>\n",
       "      <td>CC(=O)NC(CO)C(=O)NC(C)C(=O)NC(C(=O)NC(CC(C)C)C...</td>\n",
       "      <td><img data-content=\"rdkit/molecule\" src=\"data:image/png;base64,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\" alt=\"Mol\"/></td>\n",
       "    </tr>\n",
       "  </tbody>\n",
       "</table>\n",
       "</div>"
      ],
      "text/plain": [
       "  Compound_name Standard Type Standard Relation Standard Value Standard Units  \\\n",
       "0                        IC50                 =         5700.0             nM   \n",
       "\n",
       "  Outcome                     InChIKey Molecule ChEMBL ID ID  \\\n",
       "0  Active  AEYIBAPLFDNVGD-UHFFFAOYNA-N                         \n",
       "\n",
       "                                              SMILES  \\\n",
       "0  CC(=O)NC(CO)C(=O)NC(C)C(=O)NC(C(=O)NC(CC(C)C)C...   \n",
       "\n",
       "                                                 Mol  \n",
       "0  <img data-content=\"rdkit/molecule\" src=\"data:i...  "
      ]
     },
     "execution_count": 2,
     "metadata": {},
     "output_type": "execute_result"
    }
   ],
   "source": [
    "# Set file path\n",
    "file = 'datasets/curated_data/chembl-pdb-sars-cov-3C-like-proteinase.sdf.gz'\n",
    "sdfInfo = dict(smilesName='SMILES', molColName='ROMol')\n",
    "moldf = PandasTools.LoadSDF(file, **sdfInfo)\n",
    "print('Original data: ', moldf.shape)\n",
    "# Rename ROMol\n",
    "moldf = moldf.rename(columns={'ROMol': 'Mol'})\n",
    "# Remove missing RDKit molecules\n",
    "moldf = moldf[pd.notnull(moldf['Mol'])]\n",
    "if 'StandardizerResult' in moldf.columns:\n",
    "    moldf = moldf.drop(columns='StandardizerResult')\n",
    "# Columns\n",
    "print('Kept data: ', moldf.shape)\n",
    "moldf.head(1)"
   ]
  },
  {
   "cell_type": "markdown",
   "metadata": {},
   "source": [
    "## Data shape"
   ]
  },
  {
   "cell_type": "code",
   "execution_count": 3,
   "metadata": {},
   "outputs": [
    {
     "name": "stdout",
     "output_type": "stream",
     "text": [
      "\u001b[1mTraining set shape:\n",
      "\u001b[0m\n",
      "\t\t Class 1: 40\n",
      "\t\t Class 0: 73\n",
      "\t\t Total number of compounds: 113\n"
     ]
    }
   ],
   "source": [
    "moldf['Outcome'] = moldf['Outcome'].replace('Active', 1)\n",
    "moldf['Outcome'] = moldf['Outcome'].replace('Inactive', 0)\n",
    "\n",
    "classes = Counter(moldf['Outcome'])\n",
    "print('\\033[1m' + 'Training set shape:' + '\\n' + '\\033[0m')\n",
    "for key, value in classes.items():\n",
    "    print('\\t\\t Class %d: %d' % (key, value))\n",
    "print('\\t\\t Total number of compounds: %d' % (len(moldf['Outcome'])))"
   ]
  },
  {
   "cell_type": "markdown",
   "metadata": {},
   "source": [
    "# Calculate Morgan Fingerprints"
   ]
  },
  {
   "cell_type": "code",
   "execution_count": 4,
   "metadata": {},
   "outputs": [
    {
     "data": {
      "text/plain": [
       "(113, 2048)"
      ]
     },
     "execution_count": 4,
     "metadata": {},
     "output_type": "execute_result"
    }
   ],
   "source": [
    "def calcfp(mol,funcFPInfo=dict(radius=3, nBits=2048, useFeatures=False, useChirality=False)):\n",
    "    fp = AllChem.GetMorganFingerprintAsBitVect(mol, **funcFPInfo)\n",
    "    fp = pd.Series(np.asarray(fp))\n",
    "    fp = fp.add_prefix('Bit_')\n",
    "    return fp\n",
    "\n",
    "# Training set\n",
    "desc = moldf.Mol.apply(calcfp)\n",
    "descriptors = desc.columns.difference(moldf.columns).tolist()\n",
    "desc.shape"
   ]
  },
  {
   "cell_type": "code",
   "execution_count": 5,
   "metadata": {},
   "outputs": [
    {
     "name": "stdout",
     "output_type": "stream",
     "text": [
      "Training set shape: Counter({0: 73, 1: 40})\n",
      "External set shape: Counter()\n"
     ]
    }
   ],
   "source": [
    "moldf_desc = pd.concat([moldf,desc], axis=1)\n",
    "balance_data = 'no'\n",
    "\n",
    "if balance_data == 'yes':\n",
    "    # Balance data using 1/2 similarity and 1/2 random\n",
    "    moldf_desc = BalanceBySim(moldf_desc, 'Outcome', 2)\n",
    "    # Print shape\n",
    "    print('Training set shape: %s' % Counter(moldf_desc['Outcome'].loc[moldf_desc['Set'] == 'train']))\n",
    "    print('External set shape: %s' % Counter(moldf_desc['Outcome'].loc[moldf_desc['Set'] == 'ext']))\n",
    "      \n",
    "else:\n",
    "    moldf_desc['Set'] = 'train'\n",
    "    # Print shape\n",
    "    print('Training set shape: %s' % Counter(moldf_desc['Outcome'].loc[moldf_desc['Set'] == 'train']))\n",
    "    print('External set shape: %s' % Counter(moldf_desc['Outcome'].loc[moldf_desc['Set'] == 'ext']))"
   ]
  },
  {
   "cell_type": "code",
   "execution_count": 6,
   "metadata": {},
   "outputs": [
    {
     "data": {
      "text/plain": [
       "(113, 2048)"
      ]
     },
     "execution_count": 6,
     "metadata": {},
     "output_type": "execute_result"
    }
   ],
   "source": [
    "moldf_train = moldf_desc[(moldf_desc['Set'] == 'train')]\n",
    "\n",
    "y_train = moldf_train['Outcome'].to_numpy()\n",
    "X_train = moldf_train[descriptors]\n",
    "X_train.shape"
   ]
  },
  {
   "cell_type": "markdown",
   "metadata": {},
   "source": [
    "## Model building"
   ]
  },
  {
   "cell_type": "markdown",
   "metadata": {},
   "source": [
    "### Modeling data"
   ]
  },
  {
   "cell_type": "markdown",
   "metadata": {},
   "source": [
    "##### Find best parameters"
   ]
  },
  {
   "cell_type": "code",
   "execution_count": 7,
   "metadata": {},
   "outputs": [
    {
     "name": "stdout",
     "output_type": "stream",
     "text": [
      "Fitting 5 folds for each of 200 candidates, totalling 1000 fits\n"
     ]
    },
    {
     "name": "stderr",
     "output_type": "stream",
     "text": [
      "[Parallel(n_jobs=-1)]: Using backend LokyBackend with 8 concurrent workers.\n",
      "[Parallel(n_jobs=-1)]: Done  34 tasks      | elapsed:   11.7s\n",
      "[Parallel(n_jobs=-1)]: Done 184 tasks      | elapsed:   56.8s\n",
      "[Parallel(n_jobs=-1)]: Done 434 tasks      | elapsed:  2.3min\n",
      "[Parallel(n_jobs=-1)]: Done 784 tasks      | elapsed:  4.3min\n",
      "[Parallel(n_jobs=-1)]: Done 1000 out of 1000 | elapsed:  5.7min finished\n"
     ]
    },
    {
     "name": "stdout",
     "output_type": "stream",
     "text": [
      "\n",
      "Best params: {'class_weight': None, 'criterion': 'gini', 'max_features': 'auto', 'n_estimators': 750, 'random_state': 24}\n",
      "Score: 0.82\n",
      "Wall time: 5min 44s\n"
     ]
    }
   ],
   "source": [
    "%%time\n",
    "# Number of trees in random forest\n",
    "n_estimators = [100, 250, 500, 750, 1000]\n",
    "max_features = ['auto', 'sqrt']\n",
    "criterion = ['gini', 'entropy']\n",
    "if balance_data == 'yes':\n",
    "    class_weight = [None]\n",
    "else:\n",
    "    class_weight = [None,'balanced',\n",
    "                    {0:.9, 1:.1}, {0:.8, 1:.2}, {0:.7, 1:.3}, {0:.6, 1:.4},\n",
    "                    {0:.4, 1:.6}, {0:.3, 1:.7}, {0:.2, 1:.8}, {0:.1, 1:.9}]\n",
    "random_state = [24]\n",
    "\n",
    "# Create the random grid\n",
    "param_grid = {'n_estimators': n_estimators,\n",
    "              'max_features': max_features,\n",
    "              'criterion': criterion,\n",
    "              'random_state': random_state,\n",
    "              'class_weight': class_weight}\n",
    "\n",
    "# setup model building\n",
    "rf = GridSearchCV(RandomForestClassifier(), param_grid, n_jobs=-1, cv=5, verbose=1)\n",
    "rf.fit(X_train, y_train)\n",
    "print()\n",
    "print('Best params: %s' % rf.best_params_)\n",
    "print('Score: %.2f' % rf.best_score_)"
   ]
  },
  {
   "cell_type": "markdown",
   "metadata": {},
   "source": [
    "##### Model w/ best parameters"
   ]
  },
  {
   "cell_type": "code",
   "execution_count": 8,
   "metadata": {},
   "outputs": [
    {
     "data": {
      "text/plain": [
       "RandomForestClassifier(bootstrap=True, ccp_alpha=0.0, class_weight=None,\n",
       "                       criterion='gini', max_depth=None, max_features='auto',\n",
       "                       max_leaf_nodes=None, max_samples=None,\n",
       "                       min_impurity_decrease=0.0, min_impurity_split=None,\n",
       "                       min_samples_leaf=1, min_samples_split=2,\n",
       "                       min_weight_fraction_leaf=0.0, n_estimators=750,\n",
       "                       n_jobs=-1, oob_score=False, random_state=24, verbose=0,\n",
       "                       warm_start=False)"
      ]
     },
     "execution_count": 8,
     "metadata": {},
     "output_type": "execute_result"
    }
   ],
   "source": [
    "rf_best = RandomForestClassifier(**rf.best_params_, n_jobs=-1)\n",
    "rf_best.fit(X_train, y_train)"
   ]
  },
  {
   "cell_type": "markdown",
   "metadata": {},
   "source": [
    "##### 5-fold cross-validation"
   ]
  },
  {
   "cell_type": "code",
   "execution_count": 9,
   "metadata": {},
   "outputs": [],
   "source": [
    "# Params\n",
    "pred = []\n",
    "ad = []\n",
    "index = []\n",
    "cross_val = StratifiedKFold(n_splits=5)\n",
    "\n",
    "# Do 5-fold loop\n",
    "for train_index, test_index in cross_val.split(X_train, y_train):\n",
    "    \n",
    "    fold_model = rf_best.fit(X_train.iloc[train_index], y_train[train_index])\n",
    "    fold_pred = rf_best.predict(X_train.iloc[test_index])\n",
    "    fold_ad = rf_best.predict_proba(X_train.iloc[test_index])\n",
    "    pred.append(fold_pred)\n",
    "    ad.append(fold_ad)\n",
    "    index.append(test_index)"
   ]
  },
  {
   "cell_type": "code",
   "execution_count": 10,
   "metadata": {},
   "outputs": [
    {
     "name": "stdout",
     "output_type": "stream",
     "text": [
      "\u001b[1m5-fold External Cross Validation Statistical Characteristcs of QSAR models developed morgan\n",
      "\u001b[0m\n"
     ]
    },
    {
     "data": {
      "text/html": [
       "<div>\n",
       "<style scoped>\n",
       "    .dataframe tbody tr th:only-of-type {\n",
       "        vertical-align: middle;\n",
       "    }\n",
       "\n",
       "    .dataframe tbody tr th {\n",
       "        vertical-align: top;\n",
       "    }\n",
       "\n",
       "    .dataframe thead th {\n",
       "        text-align: right;\n",
       "    }\n",
       "</style>\n",
       "<table border=\"1\" class=\"dataframe\">\n",
       "  <thead>\n",
       "    <tr style=\"text-align: right;\">\n",
       "      <th></th>\n",
       "      <th>Kappa</th>\n",
       "      <th>CCR</th>\n",
       "      <th>Sensitivity</th>\n",
       "      <th>PPV</th>\n",
       "      <th>Specificity</th>\n",
       "      <th>NPV</th>\n",
       "      <th>Coverage</th>\n",
       "    </tr>\n",
       "  </thead>\n",
       "  <tbody>\n",
       "    <tr>\n",
       "      <th>Morgan</th>\n",
       "      <td>0.59</td>\n",
       "      <td>0.78</td>\n",
       "      <td>0.65</td>\n",
       "      <td>0.81</td>\n",
       "      <td>0.92</td>\n",
       "      <td>0.83</td>\n",
       "      <td>1.00</td>\n",
       "    </tr>\n",
       "    <tr>\n",
       "      <th>Morgan AD</th>\n",
       "      <td>0.67</td>\n",
       "      <td>0.80</td>\n",
       "      <td>0.62</td>\n",
       "      <td>0.94</td>\n",
       "      <td>0.98</td>\n",
       "      <td>0.85</td>\n",
       "      <td>0.69</td>\n",
       "    </tr>\n",
       "  </tbody>\n",
       "</table>\n",
       "</div>"
      ],
      "text/plain": [
       "           Kappa   CCR  Sensitivity   PPV  Specificity   NPV  Coverage\n",
       "Morgan      0.59  0.78         0.65  0.81         0.92  0.83      1.00\n",
       "Morgan AD   0.67  0.80         0.62  0.94         0.98  0.85      0.69"
      ]
     },
     "execution_count": 10,
     "metadata": {},
     "output_type": "execute_result"
    }
   ],
   "source": [
    "threshold_ad = 0.70\n",
    "\n",
    "# Prepare results to export    \n",
    "fold_index = np.concatenate(index)    \n",
    "fold_pred = np.concatenate(pred)\n",
    "fold_ad = np.concatenate(ad)\n",
    "fold_ad = (np.amax(fold_ad, axis=1) >= threshold_ad).astype(str)\n",
    "five_fold_morgan = pd.DataFrame({'Prediction': fold_pred,'AD': fold_ad}, index=list(fold_index))\n",
    "five_fold_morgan.AD[five_fold_morgan.AD == 'False'] = np.nan\n",
    "five_fold_morgan.AD[five_fold_morgan.AD == 'True'] = five_fold_morgan.Prediction\n",
    "five_fold_morgan.sort_index(inplace=True)\n",
    "five_fold_morgan['y_train'] = pd.DataFrame(y_train)\n",
    "five_fold_ad = five_fold_morgan.dropna().astype(int)\n",
    "coverage_5f = len(five_fold_ad) / len(five_fold_morgan)\n",
    "\n",
    "\n",
    "# morgan stats\n",
    "morgan = pd.DataFrame(stats(five_fold_morgan['y_train'], five_fold_morgan['Prediction']))\n",
    "morgan['Coverage'] = 1.0\n",
    "\n",
    "# morgan AD stats\n",
    "morgan_ad = five_fold_morgan.dropna(subset=['AD']).astype(int)\n",
    "coverage_morgan_ad = len(morgan_ad['AD']) / len(five_fold_morgan['y_train'])\n",
    "morgan_ad = pd.DataFrame(stats(morgan_ad['y_train'], morgan_ad['AD']))\n",
    "morgan_ad['Coverage'] = round(coverage_morgan_ad, 2)\n",
    "\n",
    "# print stats\n",
    "print('\\033[1m' + '5-fold External Cross Validation Statistical Characteristcs of QSAR models developed morgan' + '\\n' + '\\033[0m')\n",
    "morgan_5f_stats = morgan.append(morgan_ad)\n",
    "morgan_5f_stats.set_index([['Morgan', 'Morgan AD']], drop=True, inplace=True)\n",
    "morgan_5f_stats"
   ]
  },
  {
   "cell_type": "markdown",
   "metadata": {},
   "source": [
    "##### Predict external withheld set after balancing"
   ]
  },
  {
   "cell_type": "code",
   "execution_count": 11,
   "metadata": {},
   "outputs": [],
   "source": [
    "moldf_ext = moldf_desc[(moldf_desc['Set'] == 'ext')]\n",
    "descriptor_list = list(X_train.columns.values)\n",
    "\n",
    "if len(moldf_ext) > 0:\n",
    "    y_ext = moldf_ext['Outcome'].to_numpy()\n",
    "    X_ext = moldf_ext[descriptors]\n",
    "    \n",
    "    # Filter out descriptors not present in the model\n",
    "    X_ext = X_ext[descriptor_list]\n",
    "    \n",
    "    # Make predictions\n",
    "    ext_set = rf_best.predict(X_ext)\n",
    "    ext_set_ad = rf_best.predict_proba(X_ext)\n",
    "    ext_set_ad = (np.amax(ext_set_ad, axis=1) >= threshold_ad).astype(str)\n",
    "    \n",
    "    # Prepare data\n",
    "    ext_set = pd.DataFrame({'Prediction': ext_set,'AD': ext_set_ad})\n",
    "    ext_set.AD[ext_set.AD == 'False'] = np.nan\n",
    "    ext_set.AD[ext_set.AD == 'True'] = ext_set.Prediction\n",
    "    ext_set.sort_index(inplace=True)\n",
    "    ext_set['y_ext'] = pd.DataFrame(y_ext)\n",
    "    ext_set_ad = ext_set.dropna().astype(int)\n",
    "    coverage_ext = len(ext_set_ad) / len(ext_set)\n",
    "    \n",
    "    # Print stats\n",
    "    ext_set_stats = pd.DataFrame(stats(ext_set.y_ext, ext_set.Prediction))\n",
    "    ext_set_stats['Coverage'] = 1.0\n",
    "    print('External withheld set: \\n', ext_set_stats.to_string(index=False), '\\n')\n",
    "    ext_set_stats_ad = pd.DataFrame(stats(ext_set_ad.y_ext, ext_set_ad.AD))\n",
    "    ext_set_stats_ad['Coverage'] = round(coverage_ext, 2)\n",
    "    print('External withheld set with AD: \\n', ext_set_stats_ad.to_string(index=False), '\\n')\n",
    "else:\n",
    "    pass"
   ]
  },
  {
   "cell_type": "markdown",
   "metadata": {},
   "source": [
    "##### Y-randomization"
   ]
  },
  {
   "cell_type": "code",
   "execution_count": 12,
   "metadata": {},
   "outputs": [
    {
     "name": "stderr",
     "output_type": "stream",
     "text": [
      "[Parallel(n_jobs=-1)]: Using backend LokyBackend with 8 concurrent workers.\n"
     ]
    },
    {
     "name": "stdout",
     "output_type": "stream",
     "text": [
      "True score =  0.78 \n",
      "Y-randomization =  0.5 \n",
      "p-value =  0.0476\n"
     ]
    },
    {
     "name": "stderr",
     "output_type": "stream",
     "text": [
      "[Parallel(n_jobs=-1)]: Done  20 out of  20 | elapsed:   59.5s finished\n"
     ]
    }
   ],
   "source": [
    "permutations = 20\n",
    "score, permutation_scores, pvalue = permutation_test_score(rf_best, X_train, y_train,\n",
    "                                                           cv=5, scoring='balanced_accuracy',\n",
    "                                                           n_permutations=permutations,\n",
    "                                                           n_jobs=-1,\n",
    "                                                           verbose=1,\n",
    "                                                           random_state=24)\n",
    "print('True score = ', score.round(2),\n",
    "      '\\nY-randomization = ', np.mean(permutation_scores).round(2),\n",
    "      '\\np-value = ', pvalue.round(4))"
   ]
  },
  {
   "cell_type": "markdown",
   "metadata": {},
   "source": [
    "##### Save model"
   ]
  },
  {
   "cell_type": "code",
   "execution_count": 13,
   "metadata": {},
   "outputs": [],
   "source": [
    "with gzip.GzipFile('model/sars-cov-3clpro-morgan_RF_ad_balanced.pgz', 'w') as f:\n",
    "    cPickle.dump(rf_best, f)"
   ]
  },
  {
   "cell_type": "markdown",
   "metadata": {},
   "source": [
    "### Export predictions"
   ]
  },
  {
   "cell_type": "code",
   "execution_count": 14,
   "metadata": {},
   "outputs": [],
   "source": [
    "pred_train = moldf_train[moldf_train.columns.difference(descriptor_list)]\n",
    "pred_train.reset_index(inplace=True)\n",
    "five_fold_exp = five_fold_morgan[['Prediction', 'AD']].rename(columns={'Prediction':'morgan', 'AD':'morgan_ad'}, )\n",
    "pred_train = pd.concat([pred_train, five_fold_exp], axis=1)\n",
    "pred_train['Set'] = 'train'\n",
    "\n",
    "if len(moldf_ext) > 0:\n",
    "    pred_ext = moldf_ext[moldf_ext.columns.difference(descriptor_list)]\n",
    "    pred_ext.reset_index(inplace=True)\n",
    "    ext_set_exp = ext_set[['Prediction', 'AD']].rename(columns={'Prediction':'morgan', 'AD':'morgan_ad'}, )\n",
    "    pred_ext = pd.concat([pred_ext, ext_set_exp], axis=1)\n",
    "    pred_ext['Set'] = 'ext'\n",
    "    \n",
    "    pred_morgan = pd.concat([pred_train, pred_ext], axis=0).sort_values(by='index')\n",
    "    pred_morgan.drop(columns=['index', 'Mol', 'ID'], inplace=True)\n",
    "\n",
    "else:\n",
    "    pred_morgan = pred_train.copy()\n",
    "    pred_morgan.drop(columns=['index', 'Mol', 'ID'], inplace=True)\n",
    "    \n",
    "#for col in ['Outcome', 'morgan', 'morgan_ad']:\n",
    "#    pred_morgan[col].replace(0,'Inactive', inplace=True)\n",
    "#    pred_morgan[col].replace(1,'Active', inplace=True)"
   ]
  },
  {
   "cell_type": "code",
   "execution_count": 15,
   "metadata": {},
   "outputs": [],
   "source": [
    "with pd.ExcelWriter('predictions-morgan.xlsx') as writer:\n",
    "    pred_morgan.to_excel(writer, sheet_name='morgan', index=False)"
   ]
  },
  {
   "cell_type": "markdown",
   "metadata": {},
   "source": [
    "### Plot stats"
   ]
  },
  {
   "cell_type": "code",
   "execution_count": 16,
   "metadata": {},
   "outputs": [
    {
     "data": {
      "text/html": [
       "<div>\n",
       "<style scoped>\n",
       "    .dataframe tbody tr th:only-of-type {\n",
       "        vertical-align: middle;\n",
       "    }\n",
       "\n",
       "    .dataframe tbody tr th {\n",
       "        vertical-align: top;\n",
       "    }\n",
       "\n",
       "    .dataframe thead th {\n",
       "        text-align: right;\n",
       "    }\n",
       "</style>\n",
       "<table border=\"1\" class=\"dataframe\">\n",
       "  <thead>\n",
       "    <tr style=\"text-align: right;\">\n",
       "      <th></th>\n",
       "      <th>Kappa</th>\n",
       "      <th>CCR</th>\n",
       "      <th>Sensitivity</th>\n",
       "      <th>PPV</th>\n",
       "      <th>Specificity</th>\n",
       "      <th>NPV</th>\n",
       "      <th>Coverage</th>\n",
       "    </tr>\n",
       "  </thead>\n",
       "  <tbody>\n",
       "    <tr>\n",
       "      <th>Morgan</th>\n",
       "      <td>0.59</td>\n",
       "      <td>0.78</td>\n",
       "      <td>0.65</td>\n",
       "      <td>0.81</td>\n",
       "      <td>0.92</td>\n",
       "      <td>0.83</td>\n",
       "      <td>1.00</td>\n",
       "    </tr>\n",
       "    <tr>\n",
       "      <th>Morgan AD</th>\n",
       "      <td>0.67</td>\n",
       "      <td>0.80</td>\n",
       "      <td>0.62</td>\n",
       "      <td>0.94</td>\n",
       "      <td>0.98</td>\n",
       "      <td>0.85</td>\n",
       "      <td>0.69</td>\n",
       "    </tr>\n",
       "  </tbody>\n",
       "</table>\n",
       "</div>"
      ],
      "text/plain": [
       "           Kappa   CCR  Sensitivity   PPV  Specificity   NPV  Coverage\n",
       "Morgan      0.59  0.78         0.65  0.81         0.92  0.83      1.00\n",
       "Morgan AD   0.67  0.80         0.62  0.94         0.98  0.85      0.69"
      ]
     },
     "execution_count": 16,
     "metadata": {},
     "output_type": "execute_result"
    }
   ],
   "source": [
    "# Export stats\n",
    "if len(moldf_ext) > 0:\n",
    "    morgan_stats = pd.concat([morgan, morgan_ad], axis=0)\n",
    "    morgan_stats.set_index([['5-fold CV', 'External withheld set']], drop=True, inplace=True)\n",
    "    morgan_stats\n",
    "else:\n",
    "    morgan_stats = morgan_5f_stats.copy()\n",
    "    morgan_stats"
   ]
  },
  {
   "cell_type": "code",
   "execution_count": 17,
   "metadata": {
    "scrolled": false
   },
   "outputs": [
    {
     "data": {
      "image/png": "[encoded data removed]",
      "text/plain": [
       "<Figure size 720x432 with 1 Axes>"
      ]
     },
     "metadata": {
      "needs_background": "light"
     },
     "output_type": "display_data"
    }
   ],
   "source": [
    "# Transpose stats\n",
    "morgan_stats_t = morgan_stats.T\n",
    "morgan_stats_t = morgan_stats_t.reset_index()\n",
    "morgan_stats_t = morgan_stats_t.rename(columns={'index': 'Stats'})\n",
    "\n",
    "# Make plot\n",
    "plt.style.use('seaborn-colorblind')\n",
    "fig, ax1 = plt.subplots(figsize=(10,6))\n",
    "\n",
    "morgan_stats_t.plot(kind='bar', ax=ax1, width=0.8)\n",
    "ax1.set_xticklabels(labels=morgan_stats_t['Stats'].tolist(), fontsize=14, rotation=0)\n",
    "ax1.axhline(y=.6, color='indianred', ls='dashed')# xmin=0.25, xmax=0.75)\n",
    "ax1.legend_.remove()\n",
    "plt.title('Statistical characteristics', fontsize=16)\n",
    "ax1.set_yticks(np.arange(0, 1.1, 0.1))\n",
    "ax1.tick_params(labelsize=15)\n",
    "\n",
    "handles, labels = ax1.get_legend_handles_labels()\n",
    "ax1.legend(handles, labels, fontsize=16,\n",
    "            loc='upper center', bbox_to_anchor=(0.5, -0.07), fancybox=True,\n",
    "            shadow=True, ncol=2)\n",
    "fig.tight_layout()\n",
    "\n",
    "plt.savefig('statistics-morgan.png', bbox_inches='tight',\n",
    "            transparent=False, format='png', dpi=300)\n",
    "plt.show();"
   ]
  }
 ],
 "metadata": {
  "kernelspec": {
   "display_name": "rdkit-env",
   "language": "python",
   "name": "my-rdkit-env"
  },
  "language_info": {
   "codemirror_mode": {
    "name": "ipython",
    "version": 3
   },
   "file_extension": ".py",
   "mimetype": "text/x-python",
   "name": "python",
   "nbconvert_exporter": "python",
   "pygments_lexer": "ipython3",
   "version": "3.6.10"
  }
 },
 "nbformat": 4,
 "nbformat_minor": 2
}
