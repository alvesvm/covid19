{
 "cells": [
  {
   "cell_type": "markdown",
   "metadata": {},
   "source": [
    "# QSAR models for 3C-like protease main protease (M<sup>pro</sup>) of SARS-CoV"
   ]
  },
  {
   "cell_type": "markdown",
   "metadata": {},
   "source": [
    "- Models in this workflow were generated using 2D Simplex Representation of Molecular Structure (SiRMS) descriptors ([Muratov et al., 2010](https://www.future-science.com/doi/10.4155/fmc.10.194)) calculated in the HiTQSAR software ([Kuz'min et al., 2008](https://link.springer.com/article/10.1007%2Fs10822-008-9179-6)) and Dragon 7 descriptors ([Kode Chemoinformatics srl - Pisa (Italy)](https://chm.kode-solutions.net/products_dragon.php)) along with Random Forest algorithm ([Breiman, 2001](https://link.springer.com/article/10.1023%2FA%3A1010933404324)).\n",
    "- We collected 329 datapoints for 201 compounds tested in SARS-CoV M<sup>pro</sup> ([CHEMBL3927](https://www.ebi.ac.uk/chembl/target_report_card/CHEMBL3927/)). The data was carefully curated following the protocols developed by [Fourches <i>et al</i>](). After curation, 91 compounds (27 actives and 64 inactives) were kept for modeling.\n",
    "- Due to the limited size of the data, we validated the models only by 5-fold external cross-validation and applied a threshold of 70% confidence to evaluate the models and to select hits for experimental validation."
   ]
  },
  {
   "cell_type": "markdown",
   "metadata": {},
   "source": [
    "## Importing modules and functions\n",
    "         \n",
    "    "
   ]
  },
  {
   "cell_type": "code",
   "execution_count": 1,
   "metadata": {},
   "outputs": [
    {
     "name": "stderr",
     "output_type": "stream",
     "text": [
      "RDKit WARNING: [16:02:52] Enabling RDKit 2019.09.3 jupyter extensions\n"
     ]
    },
    {
     "data": {
      "text/html": [
       "<style>.container { width:90% !important; }</style>"
      ],
      "text/plain": [
       "<IPython.core.display.HTML object>"
      ]
     },
     "metadata": {},
     "output_type": "display_data"
    }
   ],
   "source": [
    "import numpy as np\n",
    "import pandas as pd\n",
    "import seaborn as sns\n",
    "import matplotlib.pyplot as plt\n",
    "import _pickle as cPickle\n",
    "import gzip\n",
    "\n",
    "from BalanceBySim import *\n",
    "from stats import *\n",
    "\n",
    "from collections import Counter\n",
    "\n",
    "from rdkit import Chem\n",
    "from rdkit.Chem import Draw\n",
    "from rdkit.Chem import PandasTools\n",
    "from rdkit.Chem.Draw import IPythonConsole\n",
    "\n",
    "from sklearn import metrics\n",
    "from sklearn.ensemble import RandomForestClassifier\n",
    "from sklearn.feature_selection import VarianceThreshold\n",
    "from sklearn.model_selection import train_test_split, cross_validate, GridSearchCV\n",
    "from sklearn.model_selection import permutation_test_score, StratifiedKFold\n",
    "\n",
    "def warn(*args, **kwargs):\n",
    "    pass\n",
    "import warnings\n",
    "warnings.filterwarnings(\"ignore\")\n",
    "warnings.warn = warn\n",
    "\n",
    "from IPython.core.interactiveshell import InteractiveShell\n",
    "InteractiveShell.ast_node_interactivity = \"all\"\n",
    "%matplotlib inline\n",
    "%reload_ext autoreload\n",
    "%autoreload 2\n",
    "Draw.DrawingOptions.atomLabelFontFace = \"DejaVu Sans\"\n",
    "Draw.DrawingOptions.atomLabelFontSize = 18\n",
    "\n",
    "from IPython.core.display import display, HTML\n",
    "display(HTML(\"<style>.container { width:90% !important; }</style>\"))"
   ]
  },
  {
   "cell_type": "markdown",
   "metadata": {},
   "source": [
    "## Load data"
   ]
  },
  {
   "cell_type": "code",
   "execution_count": 2,
   "metadata": {},
   "outputs": [
    {
     "name": "stdout",
     "output_type": "stream",
     "text": [
      "Original data:  (113, 11)\n",
      "Kept data:  (113, 11)\n"
     ]
    },
    {
     "data": {
      "text/html": [
       "<div>\n",
       "<style scoped>\n",
       "    .dataframe tbody tr th:only-of-type {\n",
       "        vertical-align: middle;\n",
       "    }\n",
       "\n",
       "    .dataframe tbody tr th {\n",
       "        vertical-align: top;\n",
       "    }\n",
       "\n",
       "    .dataframe thead th {\n",
       "        text-align: right;\n",
       "    }\n",
       "</style>\n",
       "<table border=\"1\" class=\"dataframe\">\n",
       "  <thead>\n",
       "    <tr style=\"text-align: right;\">\n",
       "      <th></th>\n",
       "      <th>Compound_name</th>\n",
       "      <th>Standard Type</th>\n",
       "      <th>Standard Relation</th>\n",
       "      <th>Standard Value</th>\n",
       "      <th>Standard Units</th>\n",
       "      <th>Outcome</th>\n",
       "      <th>InChIKey</th>\n",
       "      <th>Molecule ChEMBL ID</th>\n",
       "      <th>ID</th>\n",
       "      <th>SMILES</th>\n",
       "      <th>Mol</th>\n",
       "    </tr>\n",
       "  </thead>\n",
       "  <tbody>\n",
       "    <tr>\n",
       "      <th>0</th>\n",
       "      <td></td>\n",
       "      <td>IC50</td>\n",
       "      <td>=</td>\n",
       "      <td>5700.0</td>\n",
       "      <td>nM</td>\n",
       "      <td>Active</td>\n",
       "      <td>AEYIBAPLFDNVGD-UHFFFAOYNA-N</td>\n",
       "      <td></td>\n",
       "      <td></td>\n",
       "      <td>CC(=O)NC(CO)C(=O)NC(C)C(=O)NC(C(=O)NC(CC(C)C)C...</td>\n",
       "      <td><img data-content=\"rdkit/molecule\" src=\"data:image/png;base64,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\" alt=\"Mol\"/></td>\n",
       "    </tr>\n",
       "  </tbody>\n",
       "</table>\n",
       "</div>"
      ],
      "text/plain": [
       "  Compound_name Standard Type Standard Relation Standard Value Standard Units  \\\n",
       "0                        IC50                 =         5700.0             nM   \n",
       "\n",
       "  Outcome                     InChIKey Molecule ChEMBL ID ID  \\\n",
       "0  Active  AEYIBAPLFDNVGD-UHFFFAOYNA-N                         \n",
       "\n",
       "                                              SMILES  \\\n",
       "0  CC(=O)NC(CO)C(=O)NC(C)C(=O)NC(C(=O)NC(CC(C)C)C...   \n",
       "\n",
       "                                                 Mol  \n",
       "0  <img data-content=\"rdkit/molecule\" src=\"data:i...  "
      ]
     },
     "execution_count": 2,
     "metadata": {},
     "output_type": "execute_result"
    }
   ],
   "source": [
    "# Set file path\n",
    "file = 'datasets/curated_data/chembl-pdb-sars-cov-3C-like-proteinase.sdf.gz'\n",
    "sdfInfo = dict(smilesName='SMILES', molColName='ROMol')\n",
    "moldf = PandasTools.LoadSDF(file, **sdfInfo)\n",
    "print('Original data: ', moldf.shape)\n",
    "# Rename ROMol\n",
    "moldf = moldf.rename(columns={'ROMol': 'Mol'})\n",
    "# Remove missing RDKit molecules\n",
    "moldf = moldf[pd.notnull(moldf['Mol'])]\n",
    "if 'StandardizerResult' in moldf.columns:\n",
    "    moldf = moldf.drop(columns='StandardizerResult')\n",
    "# Columns\n",
    "print('Kept data: ', moldf.shape)\n",
    "moldf.head(1)"
   ]
  },
  {
   "cell_type": "markdown",
   "metadata": {},
   "source": [
    "## Data shape"
   ]
  },
  {
   "cell_type": "code",
   "execution_count": 3,
   "metadata": {},
   "outputs": [
    {
     "name": "stdout",
     "output_type": "stream",
     "text": [
      "\u001b[1mTraining set shape:\n",
      "\u001b[0m\n",
      "\t\t Class 1: 40\n",
      "\t\t Class 0: 73\n",
      "\t\t Total number of compounds: 113\n"
     ]
    }
   ],
   "source": [
    "moldf['Outcome'] = moldf['Outcome'].replace('Active', 1)\n",
    "moldf['Outcome'] = moldf['Outcome'].replace('Inactive', 0)\n",
    "\n",
    "classes = Counter(moldf['Outcome'])\n",
    "print('\\033[1m' + 'Training set shape:' + '\\n' + '\\033[0m')\n",
    "for key, value in classes.items():\n",
    "    print('\\t\\t Class %d: %d' % (key, value))\n",
    "print('\\t\\t Total number of compounds: %d' % (len(moldf['Outcome'])))"
   ]
  },
  {
   "cell_type": "markdown",
   "metadata": {},
   "source": [
    "# SiRMS"
   ]
  },
  {
   "cell_type": "markdown",
   "metadata": {},
   "source": [
    "## Import descriptors\n",
    "\n",
    "Descriptors were calculated externally using HitQSAR. Descriptors with low variance and correlated were removed HiT QSAR using the Methods of Data Analysis module."
   ]
  },
  {
   "cell_type": "code",
   "execution_count": 4,
   "metadata": {
    "scrolled": true
   },
   "outputs": [
    {
     "data": {
      "text/html": [
       "<div>\n",
       "<style scoped>\n",
       "    .dataframe tbody tr th:only-of-type {\n",
       "        vertical-align: middle;\n",
       "    }\n",
       "\n",
       "    .dataframe tbody tr th {\n",
       "        vertical-align: top;\n",
       "    }\n",
       "\n",
       "    .dataframe thead th {\n",
       "        text-align: right;\n",
       "    }\n",
       "</style>\n",
       "<table border=\"1\" class=\"dataframe\">\n",
       "  <thead>\n",
       "    <tr style=\"text-align: right;\">\n",
       "      <th></th>\n",
       "      <th>Fr1(chg)/A</th>\n",
       "      <th>Fr1(chg)/B</th>\n",
       "      <th>Fr1(chg)/C</th>\n",
       "      <th>Fr1(chg)/D</th>\n",
       "      <th>Fr2(chg)/A_A/1_2a/</th>\n",
       "      <th>Fr2(chg)/A_A/1_2s/</th>\n",
       "      <th>Fr2(chg)/A_B/1_2a/</th>\n",
       "      <th>Fr2(chg)/A_B/1_2s/</th>\n",
       "      <th>Fr2(chg)/A_C/1_2a/</th>\n",
       "      <th>Fr2(chg)/A_C/1_2d/</th>\n",
       "      <th>...</th>\n",
       "      <th>S_A(type)/N.AR_N.PL3_O.2_S.O2/2_4s,3_4d/4</th>\n",
       "      <th>S_A(type)/N.AR_O.2_O.2_S.O2/2_4d,3_4d/4</th>\n",
       "      <th>S_A(type)/N.AR_O.2_O.3_S.O2/1_3s,2_4d/3</th>\n",
       "      <th>S_A(type)/N.PL3_O.2_O.2_S.O2/1_4s,2_4d,3_4d/5</th>\n",
       "      <th>S_A(type)/N.PL3_O.2_O.2_S.O2/2_4d,3_4d/4</th>\n",
       "      <th>S_A(type)/N.PL3_O.2_O.3_S.O2/1_4s,2_4d/4</th>\n",
       "      <th>S_A(type)/N.PL3_O.2_S.3_S.O2/1_4s,2_4d/4</th>\n",
       "      <th>S_A(type)/O.2_O.2_O.2_S.O2/2_4d,3_4d/4</th>\n",
       "      <th>S_A(type)/O.2_O.2_O.3_S.O2/1_4d,2_4d/4</th>\n",
       "      <th>S_A(type)/O.2_O.2_S.3_S.O2/1_4d,2_4d/4</th>\n",
       "    </tr>\n",
       "  </thead>\n",
       "  <tbody>\n",
       "    <tr>\n",
       "      <th>0</th>\n",
       "      <td>14</td>\n",
       "      <td>10</td>\n",
       "      <td>36</td>\n",
       "      <td>20</td>\n",
       "      <td>0</td>\n",
       "      <td>0</td>\n",
       "      <td>0</td>\n",
       "      <td>0</td>\n",
       "      <td>2</td>\n",
       "      <td>0</td>\n",
       "      <td>...</td>\n",
       "      <td>0</td>\n",
       "      <td>0</td>\n",
       "      <td>0</td>\n",
       "      <td>0</td>\n",
       "      <td>0</td>\n",
       "      <td>0</td>\n",
       "      <td>0</td>\n",
       "      <td>0</td>\n",
       "      <td>0</td>\n",
       "      <td>0</td>\n",
       "    </tr>\n",
       "    <tr>\n",
       "      <th>1</th>\n",
       "      <td>9</td>\n",
       "      <td>16</td>\n",
       "      <td>37</td>\n",
       "      <td>9</td>\n",
       "      <td>0</td>\n",
       "      <td>0</td>\n",
       "      <td>2</td>\n",
       "      <td>0</td>\n",
       "      <td>2</td>\n",
       "      <td>0</td>\n",
       "      <td>...</td>\n",
       "      <td>0</td>\n",
       "      <td>0</td>\n",
       "      <td>0</td>\n",
       "      <td>0</td>\n",
       "      <td>0</td>\n",
       "      <td>0</td>\n",
       "      <td>0</td>\n",
       "      <td>0</td>\n",
       "      <td>0</td>\n",
       "      <td>0</td>\n",
       "    </tr>\n",
       "    <tr>\n",
       "      <th>2</th>\n",
       "      <td>12</td>\n",
       "      <td>13</td>\n",
       "      <td>34</td>\n",
       "      <td>17</td>\n",
       "      <td>0</td>\n",
       "      <td>0</td>\n",
       "      <td>1</td>\n",
       "      <td>0</td>\n",
       "      <td>0</td>\n",
       "      <td>1</td>\n",
       "      <td>...</td>\n",
       "      <td>0</td>\n",
       "      <td>0</td>\n",
       "      <td>0</td>\n",
       "      <td>0</td>\n",
       "      <td>0</td>\n",
       "      <td>0</td>\n",
       "      <td>0</td>\n",
       "      <td>0</td>\n",
       "      <td>0</td>\n",
       "      <td>0</td>\n",
       "    </tr>\n",
       "    <tr>\n",
       "      <th>3</th>\n",
       "      <td>5</td>\n",
       "      <td>22</td>\n",
       "      <td>26</td>\n",
       "      <td>7</td>\n",
       "      <td>0</td>\n",
       "      <td>0</td>\n",
       "      <td>0</td>\n",
       "      <td>0</td>\n",
       "      <td>0</td>\n",
       "      <td>0</td>\n",
       "      <td>...</td>\n",
       "      <td>0</td>\n",
       "      <td>0</td>\n",
       "      <td>0</td>\n",
       "      <td>0</td>\n",
       "      <td>0</td>\n",
       "      <td>0</td>\n",
       "      <td>0</td>\n",
       "      <td>0</td>\n",
       "      <td>0</td>\n",
       "      <td>0</td>\n",
       "    </tr>\n",
       "    <tr>\n",
       "      <th>4</th>\n",
       "      <td>18</td>\n",
       "      <td>10</td>\n",
       "      <td>30</td>\n",
       "      <td>25</td>\n",
       "      <td>0</td>\n",
       "      <td>0</td>\n",
       "      <td>0</td>\n",
       "      <td>0</td>\n",
       "      <td>0</td>\n",
       "      <td>0</td>\n",
       "      <td>...</td>\n",
       "      <td>0</td>\n",
       "      <td>0</td>\n",
       "      <td>0</td>\n",
       "      <td>0</td>\n",
       "      <td>0</td>\n",
       "      <td>0</td>\n",
       "      <td>0</td>\n",
       "      <td>0</td>\n",
       "      <td>0</td>\n",
       "      <td>0</td>\n",
       "    </tr>\n",
       "  </tbody>\n",
       "</table>\n",
       "<p>5 rows × 9401 columns</p>\n",
       "</div>"
      ],
      "text/plain": [
       "   Fr1(chg)/A  Fr1(chg)/B  Fr1(chg)/C  Fr1(chg)/D  Fr2(chg)/A_A/1_2a/  \\\n",
       "0          14          10          36          20                   0   \n",
       "1           9          16          37           9                   0   \n",
       "2          12          13          34          17                   0   \n",
       "3           5          22          26           7                   0   \n",
       "4          18          10          30          25                   0   \n",
       "\n",
       "   Fr2(chg)/A_A/1_2s/  Fr2(chg)/A_B/1_2a/  Fr2(chg)/A_B/1_2s/  \\\n",
       "0                   0                   0                   0   \n",
       "1                   0                   2                   0   \n",
       "2                   0                   1                   0   \n",
       "3                   0                   0                   0   \n",
       "4                   0                   0                   0   \n",
       "\n",
       "   Fr2(chg)/A_C/1_2a/  Fr2(chg)/A_C/1_2d/  ...  \\\n",
       "0                   2                   0  ...   \n",
       "1                   2                   0  ...   \n",
       "2                   0                   1  ...   \n",
       "3                   0                   0  ...   \n",
       "4                   0                   0  ...   \n",
       "\n",
       "   S_A(type)/N.AR_N.PL3_O.2_S.O2/2_4s,3_4d/4  \\\n",
       "0                                          0   \n",
       "1                                          0   \n",
       "2                                          0   \n",
       "3                                          0   \n",
       "4                                          0   \n",
       "\n",
       "   S_A(type)/N.AR_O.2_O.2_S.O2/2_4d,3_4d/4  \\\n",
       "0                                        0   \n",
       "1                                        0   \n",
       "2                                        0   \n",
       "3                                        0   \n",
       "4                                        0   \n",
       "\n",
       "   S_A(type)/N.AR_O.2_O.3_S.O2/1_3s,2_4d/3  \\\n",
       "0                                        0   \n",
       "1                                        0   \n",
       "2                                        0   \n",
       "3                                        0   \n",
       "4                                        0   \n",
       "\n",
       "   S_A(type)/N.PL3_O.2_O.2_S.O2/1_4s,2_4d,3_4d/5  \\\n",
       "0                                              0   \n",
       "1                                              0   \n",
       "2                                              0   \n",
       "3                                              0   \n",
       "4                                              0   \n",
       "\n",
       "   S_A(type)/N.PL3_O.2_O.2_S.O2/2_4d,3_4d/4  \\\n",
       "0                                         0   \n",
       "1                                         0   \n",
       "2                                         0   \n",
       "3                                         0   \n",
       "4                                         0   \n",
       "\n",
       "   S_A(type)/N.PL3_O.2_O.3_S.O2/1_4s,2_4d/4  \\\n",
       "0                                         0   \n",
       "1                                         0   \n",
       "2                                         0   \n",
       "3                                         0   \n",
       "4                                         0   \n",
       "\n",
       "   S_A(type)/N.PL3_O.2_S.3_S.O2/1_4s,2_4d/4  \\\n",
       "0                                         0   \n",
       "1                                         0   \n",
       "2                                         0   \n",
       "3                                         0   \n",
       "4                                         0   \n",
       "\n",
       "   S_A(type)/O.2_O.2_O.2_S.O2/2_4d,3_4d/4  \\\n",
       "0                                       0   \n",
       "1                                       0   \n",
       "2                                       0   \n",
       "3                                       0   \n",
       "4                                       0   \n",
       "\n",
       "   S_A(type)/O.2_O.2_O.3_S.O2/1_4d,2_4d/4  \\\n",
       "0                                       0   \n",
       "1                                       0   \n",
       "2                                       0   \n",
       "3                                       0   \n",
       "4                                       0   \n",
       "\n",
       "   S_A(type)/O.2_O.2_S.3_S.O2/1_4d,2_4d/4  \n",
       "0                                       0  \n",
       "1                                       0  \n",
       "2                                       0  \n",
       "3                                       0  \n",
       "4                                       0  \n",
       "\n",
       "[5 rows x 9401 columns]"
      ]
     },
     "execution_count": 4,
     "metadata": {},
     "output_type": "execute_result"
    }
   ],
   "source": [
    "desc = pd.read_csv('descriptors/sirms-chembl-pdb-sars-cov-3C-like-proteinase.txt', skiprows=[0,1], sep='\\t')\n",
    "desc.drop(desc.columns[0:2], axis=1,inplace=True)\n",
    "descriptors = desc.columns.difference(moldf.columns).tolist()\n",
    "desc.head()"
   ]
  },
  {
   "cell_type": "code",
   "execution_count": 5,
   "metadata": {},
   "outputs": [
    {
     "name": "stdout",
     "output_type": "stream",
     "text": [
      "Training set shape: Counter({0: 73, 1: 40})\n",
      "External set shape: Counter()\n"
     ]
    }
   ],
   "source": [
    "moldf_desc = pd.concat([moldf,desc], axis=1)\n",
    "balance_data = 'no'\n",
    "\n",
    "if balance_data == 'yes':\n",
    "    # Balance data using 1/2 similarity and 1/2 random\n",
    "    moldf_desc = BalanceBySim(moldf_desc, 'Outcome', 2)\n",
    "    # Print shape\n",
    "    print('Training set shape: %s' % Counter(moldf_desc['Outcome'].loc[moldf_desc['Set'] == 'train']))\n",
    "    print('External set shape: %s' % Counter(moldf_desc['Outcome'].loc[moldf_desc['Set'] == 'ext']))\n",
    "      \n",
    "else:\n",
    "    moldf_desc['Set'] = 'train'\n",
    "    # Print shape\n",
    "    print('Training set shape: %s' % Counter(moldf_desc['Outcome']))\n",
    "    print('External set shape: %s' % Counter(moldf_desc['Outcome'].loc[moldf_desc['Set'] == 'ext']))"
   ]
  },
  {
   "cell_type": "code",
   "execution_count": 6,
   "metadata": {
    "scrolled": true
   },
   "outputs": [
    {
     "data": {
      "text/plain": [
       "(113, 9401)"
      ]
     },
     "execution_count": 6,
     "metadata": {},
     "output_type": "execute_result"
    }
   ],
   "source": [
    "moldf_train = moldf_desc[(moldf_desc['Set'] == 'train')]\n",
    "\n",
    "y_train = moldf_train['Outcome'].to_numpy()\n",
    "X_train = moldf_train[descriptors]\n",
    "X_train.shape"
   ]
  },
  {
   "cell_type": "markdown",
   "metadata": {},
   "source": [
    "##### Remove constant and near constant variables"
   ]
  },
  {
   "cell_type": "code",
   "execution_count": 7,
   "metadata": {},
   "outputs": [],
   "source": [
    "X_train = X_train.select_dtypes(exclude=['object'])\n",
    "X_train = X_train.dropna(axis=1, how='any')\n",
    "X_train = X_train.fillna(0)\n",
    "\n",
    "# Def low variance filter (10% threshold)\n",
    "def variance_filter(data, threshold=0.1):\n",
    "    selector = VarianceThreshold(threshold)\n",
    "    selector.fit(data)\n",
    "    return data[data.columns[selector.get_support(indices=True)]]\n",
    "\n",
    "# Apply filter\n",
    "X_train = variance_filter(X_train)"
   ]
  },
  {
   "cell_type": "markdown",
   "metadata": {},
   "source": [
    "##### Remove correlated variables"
   ]
  },
  {
   "cell_type": "code",
   "execution_count": 8,
   "metadata": {},
   "outputs": [
    {
     "name": "stdout",
     "output_type": "stream",
     "text": [
      "Wall time: 3min 42s\n"
     ]
    },
    {
     "data": {
      "text/plain": [
       "(113, 1262)"
      ]
     },
     "execution_count": 8,
     "metadata": {},
     "output_type": "execute_result"
    }
   ],
   "source": [
    "%%time\n",
    "correlated_features = set()  \n",
    "correlation_matrix = X_train.corr()\n",
    "\n",
    "for i in range(len(correlation_matrix.columns)):  \n",
    "    for j in range(i):\n",
    "        if abs(correlation_matrix.iloc[i, j]) > 0.9:\n",
    "            colname = correlation_matrix.columns[i]\n",
    "            correlated_features.add(colname)\n",
    "\n",
    "X_train.drop(labels=correlated_features, axis=1, inplace=True)\n",
    "\n",
    "X_train.shape"
   ]
  },
  {
   "cell_type": "code",
   "execution_count": 9,
   "metadata": {},
   "outputs": [],
   "source": [
    "X_train.to_csv('descriptors/sirms-chembl-sars-cov-3C-like-proteinase-processed.txt', sep='\\t', index=False)"
   ]
  },
  {
   "cell_type": "markdown",
   "metadata": {},
   "source": [
    "## Model building"
   ]
  },
  {
   "cell_type": "markdown",
   "metadata": {},
   "source": [
    "### Modeling data"
   ]
  },
  {
   "cell_type": "markdown",
   "metadata": {},
   "source": [
    "##### Find best parameters"
   ]
  },
  {
   "cell_type": "code",
   "execution_count": 10,
   "metadata": {},
   "outputs": [
    {
     "name": "stdout",
     "output_type": "stream",
     "text": [
      "Fitting 5 folds for each of 200 candidates, totalling 1000 fits\n"
     ]
    },
    {
     "name": "stderr",
     "output_type": "stream",
     "text": [
      "[Parallel(n_jobs=-1)]: Using backend LokyBackend with 8 concurrent workers.\n",
      "[Parallel(n_jobs=-1)]: Done  34 tasks      | elapsed:   11.1s\n",
      "[Parallel(n_jobs=-1)]: Done 184 tasks      | elapsed:   50.3s\n",
      "[Parallel(n_jobs=-1)]: Done 434 tasks      | elapsed:  2.1min\n",
      "[Parallel(n_jobs=-1)]: Done 784 tasks      | elapsed:  3.8min\n",
      "[Parallel(n_jobs=-1)]: Done 1000 out of 1000 | elapsed:  5.0min finished\n"
     ]
    },
    {
     "name": "stdout",
     "output_type": "stream",
     "text": [
      "\n",
      "Best params: {'class_weight': {0: 0.7, 1: 0.3}, 'criterion': 'gini', 'max_features': 'auto', 'n_estimators': 100, 'random_state': 33}\n",
      "Score: 0.79\n",
      "Wall time: 5min\n"
     ]
    }
   ],
   "source": [
    "%%time\n",
    "# Number of trees in random forest\n",
    "n_estimators = [100, 250, 500, 750, 1000]\n",
    "max_features = ['auto', 'sqrt']\n",
    "criterion = ['gini', 'entropy']\n",
    "if balance_data == 'yes':\n",
    "    class_weight = [None]\n",
    "else:\n",
    "    class_weight = [None,'balanced',\n",
    "                    {0:.9, 1:.1}, {0:.8, 1:.2}, {0:.7, 1:.3}, {0:.6, 1:.4},\n",
    "                    {0:.4, 1:.6}, {0:.3, 1:.7}, {0:.2, 1:.8}, {0:.1, 1:.9}]\n",
    "random_state = [33]\n",
    "\n",
    "# Create the random grid\n",
    "param_grid = {'n_estimators': n_estimators,\n",
    "              'max_features': max_features,\n",
    "              'criterion': criterion,\n",
    "              'random_state': random_state,\n",
    "              'class_weight': class_weight}\n",
    "\n",
    "# setup model building\n",
    "rf = GridSearchCV(RandomForestClassifier(), param_grid, n_jobs=-1, cv=5, verbose=1)\n",
    "rf.fit(X_train, y_train)\n",
    "print()\n",
    "print('Best params: %s' % rf.best_params_)\n",
    "print('Score: %.2f' % rf.best_score_)"
   ]
  },
  {
   "cell_type": "markdown",
   "metadata": {},
   "source": [
    "##### Model w/ best parameters"
   ]
  },
  {
   "cell_type": "code",
   "execution_count": 11,
   "metadata": {},
   "outputs": [
    {
     "data": {
      "text/plain": [
       "RandomForestClassifier(bootstrap=True, ccp_alpha=0.0,\n",
       "                       class_weight={0: 0.7, 1: 0.3}, criterion='gini',\n",
       "                       max_depth=None, max_features='auto', max_leaf_nodes=None,\n",
       "                       max_samples=None, min_impurity_decrease=0.0,\n",
       "                       min_impurity_split=None, min_samples_leaf=1,\n",
       "                       min_samples_split=2, min_weight_fraction_leaf=0.0,\n",
       "                       n_estimators=100, n_jobs=-1, oob_score=False,\n",
       "                       random_state=33, verbose=0, warm_start=False)"
      ]
     },
     "execution_count": 11,
     "metadata": {},
     "output_type": "execute_result"
    }
   ],
   "source": [
    "rf_best = RandomForestClassifier(**rf.best_params_, n_jobs=-1)\n",
    "rf_best.fit(X_train, y_train)"
   ]
  },
  {
   "cell_type": "markdown",
   "metadata": {},
   "source": [
    "##### 5-fold cross-validation"
   ]
  },
  {
   "cell_type": "code",
   "execution_count": 12,
   "metadata": {},
   "outputs": [],
   "source": [
    "# Params\n",
    "pred = []\n",
    "ad = []\n",
    "index = []\n",
    "cross_val = StratifiedKFold(n_splits=5)\n",
    "\n",
    "# Do 5-fold loop\n",
    "for train_index, test_index in cross_val.split(X_train, y_train):\n",
    "    \n",
    "    fold_model = rf_best.fit(X_train.iloc[train_index], y_train[train_index])\n",
    "    fold_pred = rf_best.predict(X_train.iloc[test_index])\n",
    "    fold_ad = rf_best.predict_proba(X_train.iloc[test_index])\n",
    "    pred.append(fold_pred)\n",
    "    ad.append(fold_ad)\n",
    "    index.append(test_index)"
   ]
  },
  {
   "cell_type": "code",
   "execution_count": 13,
   "metadata": {},
   "outputs": [
    {
     "name": "stdout",
     "output_type": "stream",
     "text": [
      "\u001b[1m5-fold External Cross Validation Statistical Characteristcs of QSAR models developed SiRMS\n",
      "\u001b[0m\n"
     ]
    },
    {
     "data": {
      "text/html": [
       "<div>\n",
       "<style scoped>\n",
       "    .dataframe tbody tr th:only-of-type {\n",
       "        vertical-align: middle;\n",
       "    }\n",
       "\n",
       "    .dataframe tbody tr th {\n",
       "        vertical-align: top;\n",
       "    }\n",
       "\n",
       "    .dataframe thead th {\n",
       "        text-align: right;\n",
       "    }\n",
       "</style>\n",
       "<table border=\"1\" class=\"dataframe\">\n",
       "  <thead>\n",
       "    <tr style=\"text-align: right;\">\n",
       "      <th></th>\n",
       "      <th>Kappa</th>\n",
       "      <th>CCR</th>\n",
       "      <th>Sensitivity</th>\n",
       "      <th>PPV</th>\n",
       "      <th>Specificity</th>\n",
       "      <th>NPV</th>\n",
       "      <th>Coverage</th>\n",
       "    </tr>\n",
       "  </thead>\n",
       "  <tbody>\n",
       "    <tr>\n",
       "      <th>SiRMS</th>\n",
       "      <td>0.52</td>\n",
       "      <td>0.76</td>\n",
       "      <td>0.65</td>\n",
       "      <td>0.72</td>\n",
       "      <td>0.86</td>\n",
       "      <td>0.82</td>\n",
       "      <td>1.00</td>\n",
       "    </tr>\n",
       "    <tr>\n",
       "      <th>SiRMS AD</th>\n",
       "      <td>0.68</td>\n",
       "      <td>0.83</td>\n",
       "      <td>0.72</td>\n",
       "      <td>0.86</td>\n",
       "      <td>0.93</td>\n",
       "      <td>0.85</td>\n",
       "      <td>0.61</td>\n",
       "    </tr>\n",
       "  </tbody>\n",
       "</table>\n",
       "</div>"
      ],
      "text/plain": [
       "          Kappa   CCR  Sensitivity   PPV  Specificity   NPV  Coverage\n",
       "SiRMS      0.52  0.76         0.65  0.72         0.86  0.82      1.00\n",
       "SiRMS AD   0.68  0.83         0.72  0.86         0.93  0.85      0.61"
      ]
     },
     "execution_count": 13,
     "metadata": {},
     "output_type": "execute_result"
    }
   ],
   "source": [
    "threshold_ad = 0.70\n",
    "\n",
    "# Prepare results to export    \n",
    "fold_index = np.concatenate(index)    \n",
    "fold_pred = np.concatenate(pred)\n",
    "fold_ad = np.concatenate(ad)\n",
    "fold_ad = (np.amax(fold_ad, axis=1) >= threshold_ad).astype(str)\n",
    "five_fold_sirms = pd.DataFrame({'Prediction': fold_pred,'AD': fold_ad}, index=list(fold_index))\n",
    "five_fold_sirms.AD[five_fold_sirms.AD == 'False'] = np.nan\n",
    "five_fold_sirms.AD[five_fold_sirms.AD == 'True'] = five_fold_sirms.Prediction\n",
    "five_fold_sirms.sort_index(inplace=True)\n",
    "five_fold_sirms['y_train'] = pd.DataFrame(y_train)\n",
    "five_fold_sirms_ad = five_fold_sirms.dropna().astype(int)\n",
    "coverage_5f = len(five_fold_sirms_ad) / len(five_fold_sirms)\n",
    "\n",
    "# sirms stats\n",
    "sirms = pd.DataFrame(stats(five_fold_sirms['y_train'], five_fold_sirms['Prediction']))\n",
    "sirms['Coverage'] = 1.0\n",
    "\n",
    "# sirms AD stats\n",
    "sirms_ad = five_fold_sirms.dropna(subset=['AD']).astype(int)\n",
    "coverage_sirms_ad = len(sirms_ad['AD']) / len(five_fold_sirms['y_train'])\n",
    "sirms_ad = pd.DataFrame(stats(sirms_ad['y_train'], sirms_ad['AD']))\n",
    "sirms_ad['Coverage'] = round(coverage_sirms_ad, 2)\n",
    "\n",
    "# print stats\n",
    "print('\\033[1m' + '5-fold External Cross Validation Statistical Characteristcs of QSAR models developed SiRMS' + '\\n' + '\\033[0m')\n",
    "sirms_5f_stats = sirms.append(sirms_ad)\n",
    "sirms_5f_stats.set_index([['SiRMS', 'SiRMS AD']], drop=True, inplace=True)\n",
    "sirms_5f_stats"
   ]
  },
  {
   "cell_type": "markdown",
   "metadata": {},
   "source": [
    "##### Predict external withheld set after balancing"
   ]
  },
  {
   "cell_type": "code",
   "execution_count": 14,
   "metadata": {},
   "outputs": [],
   "source": [
    "moldf_ext = moldf_desc[(moldf_desc['Set'] == 'ext')]\n",
    "descriptor_list = list(X_train.columns.values)\n",
    "\n",
    "if len(moldf_ext) > 0:\n",
    "    y_ext = moldf_ext['Outcome'].to_numpy()\n",
    "    X_ext = moldf_ext[descriptors]\n",
    "    \n",
    "    # Filter out descriptors not present in the model\n",
    "    X_ext = X_ext[descriptor_list]\n",
    "    \n",
    "    # Make predictions\n",
    "    ext_set_sirms = rf_best.predict(X_ext)\n",
    "    ext_set_sirms_ad = rf_best.predict_proba(X_ext)\n",
    "    ext_set_sirms_ad = (np.amax(ext_set_sirms_ad, axis=1) >= threshold_ad).astype(str)\n",
    "    \n",
    "    # Prepare data\n",
    "    ext_set_sirms = pd.DataFrame({'Prediction': ext_set_sirms,'AD': ext_set_sirms_ad})\n",
    "    ext_set_sirms.AD[ext_set_sirms.AD == 'False'] = np.nan\n",
    "    ext_set_sirms.AD[ext_set_sirms.AD == 'True'] = ext_set_sirms.Prediction\n",
    "    ext_set_sirms.sort_index(inplace=True)\n",
    "    ext_set_sirms['y_ext'] = pd.DataFrame(y_ext)\n",
    "    ext_set_sirms_ad = ext_set_sirms.dropna().astype(int)\n",
    "    coverage_ext = len(ext_set_sirms_ad) / len(ext_set_sirms)\n",
    "    \n",
    "    # ext_set_sirms stats\n",
    "    sirms_ext = pd.DataFrame(stats(ext_set_sirms['y_ext'], ext_set_sirms['Prediction']))\n",
    "    sirms_ext['Coverage'] = 1.0\n",
    "    \n",
    "    # ext_set_sirms AD stats\n",
    "    sirms_ext_ad = ext_set_sirms.dropna(subset=['AD']).astype(int)\n",
    "    coverage_sirms_ext_ad = len(sirms_ext_ad['AD']) / len(ext_set_sirms['y_ext'])\n",
    "    sirms_ext_ad = pd.DataFrame(stats(sirms_ext_ad['y_ext'], sirms_ext_ad['AD']))\n",
    "    sirms_ext_ad['Coverage'] = round(coverage_sirms_ext_ad, 2)\n",
    "    \n",
    "    # print stats\n",
    "    print('\\033[1m' + 'Statistical Characteristcs of the Prediction of the External Withheld Set by SiRMS Models' + '\\n' + '\\033[0m')\n",
    "    ext_set_sirms_stats = sirms_ext.append(sirms_ext_ad)\n",
    "    ext_set_sirms_stats.set_index([['SiRMS Ext.', 'SiRMS Ext. AD']], drop=True, inplace=True)\n",
    "    ext_set_sirms_stats\n",
    "else:\n",
    "    pass"
   ]
  },
  {
   "cell_type": "markdown",
   "metadata": {},
   "source": [
    "##### Y-randomization"
   ]
  },
  {
   "cell_type": "code",
   "execution_count": 15,
   "metadata": {},
   "outputs": [
    {
     "name": "stderr",
     "output_type": "stream",
     "text": [
      "[Parallel(n_jobs=-1)]: Using backend LokyBackend with 8 concurrent workers.\n"
     ]
    },
    {
     "name": "stdout",
     "output_type": "stream",
     "text": [
      "True score =  0.76 \n",
      "Y-randomization =  0.49 \n",
      "p-value =  0.0476\n"
     ]
    },
    {
     "name": "stderr",
     "output_type": "stream",
     "text": [
      "[Parallel(n_jobs=-1)]: Done  20 out of  20 | elapsed:    7.0s finished\n"
     ]
    }
   ],
   "source": [
    "permutations = 20\n",
    "score, permutation_scores, pvalue = permutation_test_score(rf_best, X_train, y_train,\n",
    "                                                           cv=5, scoring='balanced_accuracy',\n",
    "                                                           n_permutations=permutations,\n",
    "                                                           n_jobs=-1,\n",
    "                                                           verbose=1,\n",
    "                                                           random_state=24)\n",
    "print('True score = ', score.round(2),\n",
    "      '\\nY-randomization = ', np.mean(permutation_scores).round(2),\n",
    "      '\\np-value = ', pvalue.round(4))"
   ]
  },
  {
   "cell_type": "markdown",
   "metadata": {},
   "source": [
    "##### Save model"
   ]
  },
  {
   "cell_type": "code",
   "execution_count": 16,
   "metadata": {},
   "outputs": [],
   "source": [
    "with gzip.GzipFile('model/sars-cov-3clpro-sirms_RF_ad_balanced.pgz', 'w') as f:\n",
    "    cPickle.dump(rf_best, f)"
   ]
  },
  {
   "cell_type": "markdown",
   "metadata": {},
   "source": [
    "### Plot stats"
   ]
  },
  {
   "cell_type": "code",
   "execution_count": 17,
   "metadata": {},
   "outputs": [],
   "source": [
    "# Export stats\n",
    "if len(moldf_ext) > 0:\n",
    "    sirms_stats = pd.concat([sirms_5f_stats, ext_set_sirms_stats], axis=0)\n",
    "    sirms_stats\n",
    "else:\n",
    "    sirms_stats = sirms_5f_stats.copy()"
   ]
  },
  {
   "cell_type": "code",
   "execution_count": 18,
   "metadata": {},
   "outputs": [
    {
     "data": {
      "image/png": "[encoded data removed]",
      "text/plain": [
       "<Figure size 1040x650 with 1 Axes>"
      ]
     },
     "metadata": {
      "needs_background": "light"
     },
     "output_type": "display_data"
    }
   ],
   "source": [
    "# Transpose stats\n",
    "sirms_stats_t = sirms_stats.T\n",
    "sirms_stats_t = sirms_stats_t.reset_index()\n",
    "sirms_stats_t = sirms_stats_t.rename(columns={'index': 'Stats'})\n",
    "\n",
    "# Make plot\n",
    "plt.style.use('seaborn-colorblind')\n",
    "fig, ax1 = plt.subplots(figsize=(8,5), dpi=130)\n",
    "\n",
    "sirms_stats_t.plot(kind='bar', ax=ax1, width=0.8)\n",
    "ax1.set_xticklabels(labels=sirms_stats_t['Stats'].tolist(), fontsize=14, rotation=0)\n",
    "ax1.axhline(y=.6, color='indianred', ls='dashed')\n",
    "ax1.legend_.remove()\n",
    "plt.title('Statistical characteristics', fontsize=16)\n",
    "ax1.set_yticks(np.arange(0, 1.1, 0.1))\n",
    "ax1.tick_params(labelsize=12)\n",
    "\n",
    "handles, labels = ax1.get_legend_handles_labels()\n",
    "ax1.legend(handles, labels, fontsize=12,\n",
    "            loc='upper center', bbox_to_anchor=(0.5, -0.09), ncol=4)\n",
    "fig.tight_layout()\n",
    "\n",
    "plt.savefig('statistics-sirms.png', bbox_inches='tight', transparent=False, format='png', dpi=300)\n",
    "plt.show();"
   ]
  },
  {
   "cell_type": "markdown",
   "metadata": {},
   "source": [
    "# DRAGON"
   ]
  },
  {
   "cell_type": "markdown",
   "metadata": {},
   "source": [
    "## Import descriptors\n",
    "\n",
    "Descriptors were calculated externally using HitQSAR"
   ]
  },
  {
   "cell_type": "code",
   "execution_count": 19,
   "metadata": {},
   "outputs": [
    {
     "data": {
      "text/html": [
       "<div>\n",
       "<style scoped>\n",
       "    .dataframe tbody tr th:only-of-type {\n",
       "        vertical-align: middle;\n",
       "    }\n",
       "\n",
       "    .dataframe tbody tr th {\n",
       "        vertical-align: top;\n",
       "    }\n",
       "\n",
       "    .dataframe thead th {\n",
       "        text-align: right;\n",
       "    }\n",
       "</style>\n",
       "<table border=\"1\" class=\"dataframe\">\n",
       "  <thead>\n",
       "    <tr style=\"text-align: right;\">\n",
       "      <th></th>\n",
       "      <th>MW</th>\n",
       "      <th>AMW</th>\n",
       "      <th>Sv</th>\n",
       "      <th>Se</th>\n",
       "      <th>Sp</th>\n",
       "      <th>Si</th>\n",
       "      <th>Mv</th>\n",
       "      <th>Me</th>\n",
       "      <th>Mp</th>\n",
       "      <th>Mi</th>\n",
       "      <th>...</th>\n",
       "      <th>Psychotic-80</th>\n",
       "      <th>Psychotic-50</th>\n",
       "      <th>Hypertens-80</th>\n",
       "      <th>Hypertens-50</th>\n",
       "      <th>Hypnotic-80</th>\n",
       "      <th>Hypnotic-50</th>\n",
       "      <th>Neoplastic-80</th>\n",
       "      <th>Neoplastic-50</th>\n",
       "      <th>Infective-80</th>\n",
       "      <th>Infective-50</th>\n",
       "    </tr>\n",
       "  </thead>\n",
       "  <tbody>\n",
       "    <tr>\n",
       "      <th>0</th>\n",
       "      <td>551.73</td>\n",
       "      <td>6.897</td>\n",
       "      <td>46.109</td>\n",
       "      <td>81.025</td>\n",
       "      <td>48.165</td>\n",
       "      <td>92.012</td>\n",
       "      <td>0.576</td>\n",
       "      <td>1.013</td>\n",
       "      <td>0.602</td>\n",
       "      <td>1.150</td>\n",
       "      <td>...</td>\n",
       "      <td>0</td>\n",
       "      <td>0</td>\n",
       "      <td>0</td>\n",
       "      <td>0</td>\n",
       "      <td>0</td>\n",
       "      <td>0</td>\n",
       "      <td>0</td>\n",
       "      <td>0</td>\n",
       "      <td>0</td>\n",
       "      <td>0</td>\n",
       "    </tr>\n",
       "    <tr>\n",
       "      <th>1</th>\n",
       "      <td>515.68</td>\n",
       "      <td>7.263</td>\n",
       "      <td>44.143</td>\n",
       "      <td>71.181</td>\n",
       "      <td>46.302</td>\n",
       "      <td>80.514</td>\n",
       "      <td>0.622</td>\n",
       "      <td>1.003</td>\n",
       "      <td>0.652</td>\n",
       "      <td>1.134</td>\n",
       "      <td>...</td>\n",
       "      <td>0</td>\n",
       "      <td>0</td>\n",
       "      <td>0</td>\n",
       "      <td>0</td>\n",
       "      <td>0</td>\n",
       "      <td>0</td>\n",
       "      <td>0</td>\n",
       "      <td>0</td>\n",
       "      <td>0</td>\n",
       "      <td>0</td>\n",
       "    </tr>\n",
       "    <tr>\n",
       "      <th>2</th>\n",
       "      <td>521.70</td>\n",
       "      <td>6.864</td>\n",
       "      <td>43.867</td>\n",
       "      <td>76.814</td>\n",
       "      <td>45.949</td>\n",
       "      <td>87.388</td>\n",
       "      <td>0.577</td>\n",
       "      <td>1.011</td>\n",
       "      <td>0.605</td>\n",
       "      <td>1.150</td>\n",
       "      <td>...</td>\n",
       "      <td>0</td>\n",
       "      <td>0</td>\n",
       "      <td>0</td>\n",
       "      <td>0</td>\n",
       "      <td>0</td>\n",
       "      <td>0</td>\n",
       "      <td>0</td>\n",
       "      <td>0</td>\n",
       "      <td>0</td>\n",
       "      <td>0</td>\n",
       "    </tr>\n",
       "    <tr>\n",
       "      <th>3</th>\n",
       "      <td>428.57</td>\n",
       "      <td>7.143</td>\n",
       "      <td>38.036</td>\n",
       "      <td>59.672</td>\n",
       "      <td>40.273</td>\n",
       "      <td>67.022</td>\n",
       "      <td>0.634</td>\n",
       "      <td>0.995</td>\n",
       "      <td>0.671</td>\n",
       "      <td>1.117</td>\n",
       "      <td>...</td>\n",
       "      <td>1</td>\n",
       "      <td>0</td>\n",
       "      <td>1</td>\n",
       "      <td>0</td>\n",
       "      <td>0</td>\n",
       "      <td>0</td>\n",
       "      <td>1</td>\n",
       "      <td>0</td>\n",
       "      <td>1</td>\n",
       "      <td>0</td>\n",
       "    </tr>\n",
       "    <tr>\n",
       "      <th>4</th>\n",
       "      <td>638.71</td>\n",
       "      <td>7.695</td>\n",
       "      <td>50.135</td>\n",
       "      <td>85.676</td>\n",
       "      <td>50.671</td>\n",
       "      <td>95.146</td>\n",
       "      <td>0.604</td>\n",
       "      <td>1.032</td>\n",
       "      <td>0.610</td>\n",
       "      <td>1.146</td>\n",
       "      <td>...</td>\n",
       "      <td>0</td>\n",
       "      <td>0</td>\n",
       "      <td>0</td>\n",
       "      <td>0</td>\n",
       "      <td>0</td>\n",
       "      <td>0</td>\n",
       "      <td>0</td>\n",
       "      <td>0</td>\n",
       "      <td>0</td>\n",
       "      <td>0</td>\n",
       "    </tr>\n",
       "  </tbody>\n",
       "</table>\n",
       "<p>5 rows × 4567 columns</p>\n",
       "</div>"
      ],
      "text/plain": [
       "       MW    AMW      Sv      Se      Sp      Si     Mv     Me     Mp     Mi  \\\n",
       "0  551.73  6.897  46.109  81.025  48.165  92.012  0.576  1.013  0.602  1.150   \n",
       "1  515.68  7.263  44.143  71.181  46.302  80.514  0.622  1.003  0.652  1.134   \n",
       "2  521.70  6.864  43.867  76.814  45.949  87.388  0.577  1.011  0.605  1.150   \n",
       "3  428.57  7.143  38.036  59.672  40.273  67.022  0.634  0.995  0.671  1.117   \n",
       "4  638.71  7.695  50.135  85.676  50.671  95.146  0.604  1.032  0.610  1.146   \n",
       "\n",
       "   ...  Psychotic-80  Psychotic-50  Hypertens-80  Hypertens-50  Hypnotic-80  \\\n",
       "0  ...             0             0             0             0            0   \n",
       "1  ...             0             0             0             0            0   \n",
       "2  ...             0             0             0             0            0   \n",
       "3  ...             1             0             1             0            0   \n",
       "4  ...             0             0             0             0            0   \n",
       "\n",
       "   Hypnotic-50  Neoplastic-80  Neoplastic-50  Infective-80  Infective-50  \n",
       "0            0              0              0             0             0  \n",
       "1            0              0              0             0             0  \n",
       "2            0              0              0             0             0  \n",
       "3            0              1              0             1             0  \n",
       "4            0              0              0             0             0  \n",
       "\n",
       "[5 rows x 4567 columns]"
      ]
     },
     "execution_count": 19,
     "metadata": {},
     "output_type": "execute_result"
    }
   ],
   "source": [
    "desc = pd.read_csv('descriptors/dragon-chembl-pdb-sars-cov-3C-like-proteinase.txt', sep='\\t')\n",
    "desc.drop(desc.columns[0:1], axis=1,inplace=True)\n",
    "descriptors = desc.columns.difference(moldf.columns).tolist()\n",
    "desc.head()"
   ]
  },
  {
   "cell_type": "code",
   "execution_count": 20,
   "metadata": {},
   "outputs": [
    {
     "name": "stdout",
     "output_type": "stream",
     "text": [
      "Training set shape: Counter({0: 73, 1: 40})\n",
      "External set shape: Counter()\n"
     ]
    }
   ],
   "source": [
    "moldf_desc = pd.concat([moldf,desc], axis=1)\n",
    "balance_data = 'no'\n",
    "\n",
    "if balance_data == 'yes':\n",
    "    # Balance data using 1/2 similarity and 1/2 random\n",
    "    moldf_desc = BalanceBySim(moldf_desc, 'Outcome', 2)\n",
    "    # Print shape\n",
    "    print('Training set shape: %s' % Counter(moldf_desc['Outcome'].loc[moldf_desc['Set'] == 'train']))\n",
    "    print('External set shape: %s' % Counter(moldf_desc['Outcome'].loc[moldf_desc['Set'] == 'ext']))\n",
    "      \n",
    "else:\n",
    "    moldf_desc['Set'] = 'train'\n",
    "    # Print shape\n",
    "    print('Training set shape: %s' % Counter(moldf_desc['Outcome']))\n",
    "    print('External set shape: %s' % Counter(moldf_desc['Outcome'].loc[moldf_desc['Set'] == 'ext']))"
   ]
  },
  {
   "cell_type": "code",
   "execution_count": 21,
   "metadata": {},
   "outputs": [
    {
     "data": {
      "text/plain": [
       "(113, 4567)"
      ]
     },
     "execution_count": 21,
     "metadata": {},
     "output_type": "execute_result"
    }
   ],
   "source": [
    "moldf_train = moldf_desc[(moldf_desc['Set'] == 'train')]\n",
    "\n",
    "y_train = moldf_train['Outcome'].to_numpy()\n",
    "X_train = moldf_train[descriptors]\n",
    "X_train.shape"
   ]
  },
  {
   "cell_type": "markdown",
   "metadata": {},
   "source": [
    "##### Remove constant and near constant variables"
   ]
  },
  {
   "cell_type": "code",
   "execution_count": 22,
   "metadata": {},
   "outputs": [],
   "source": [
    "X_train = X_train.select_dtypes(exclude=['object'])\n",
    "X_train = X_train.dropna(axis=1, how='any')\n",
    "X_train = X_train.fillna(0)\n",
    "\n",
    "# Def low variance filter (10% threshold)\n",
    "def variance_filter(data, threshold=0.1):\n",
    "    selector = VarianceThreshold(threshold)\n",
    "    selector.fit(data)\n",
    "    return data[data.columns[selector.get_support(indices=True)]]\n",
    "\n",
    "# Apply filter\n",
    "X_train = variance_filter(X_train)"
   ]
  },
  {
   "cell_type": "markdown",
   "metadata": {},
   "source": [
    "##### Remove correlated variables"
   ]
  },
  {
   "cell_type": "code",
   "execution_count": 23,
   "metadata": {},
   "outputs": [
    {
     "data": {
      "text/plain": [
       "(113, 378)"
      ]
     },
     "execution_count": 23,
     "metadata": {},
     "output_type": "execute_result"
    }
   ],
   "source": [
    "correlated_features = set()  \n",
    "correlation_matrix = X_train.corr()\n",
    "\n",
    "for i in range(len(correlation_matrix.columns)):  \n",
    "    for j in range(i):\n",
    "        if abs(correlation_matrix.iloc[i, j]) > 0.9:\n",
    "            colname = correlation_matrix.columns[i]\n",
    "            correlated_features.add(colname)\n",
    "\n",
    "X_train.drop(labels=correlated_features, axis=1, inplace=True)\n",
    "\n",
    "X_train.shape"
   ]
  },
  {
   "cell_type": "code",
   "execution_count": 24,
   "metadata": {},
   "outputs": [],
   "source": [
    "X_train.to_csv('descriptors/dragon-chembl-sars-cov-3C-like-proteinase-processed.txt', sep='\\t', index=False)"
   ]
  },
  {
   "cell_type": "markdown",
   "metadata": {},
   "source": [
    "## Model building"
   ]
  },
  {
   "cell_type": "markdown",
   "metadata": {},
   "source": [
    "### Modeling data"
   ]
  },
  {
   "cell_type": "markdown",
   "metadata": {},
   "source": [
    "##### Find best parameters"
   ]
  },
  {
   "cell_type": "code",
   "execution_count": 25,
   "metadata": {},
   "outputs": [
    {
     "name": "stdout",
     "output_type": "stream",
     "text": [
      "Fitting 5 folds for each of 200 candidates, totalling 1000 fits\n"
     ]
    },
    {
     "name": "stderr",
     "output_type": "stream",
     "text": [
      "[Parallel(n_jobs=-1)]: Using backend LokyBackend with 8 concurrent workers.\n",
      "[Parallel(n_jobs=-1)]: Done  34 tasks      | elapsed:    7.6s\n",
      "[Parallel(n_jobs=-1)]: Done 184 tasks      | elapsed:   49.3s\n",
      "[Parallel(n_jobs=-1)]: Done 434 tasks      | elapsed:  2.1min\n",
      "[Parallel(n_jobs=-1)]: Done 784 tasks      | elapsed:  3.7min\n",
      "[Parallel(n_jobs=-1)]: Done 1000 out of 1000 | elapsed:  4.9min finished\n"
     ]
    },
    {
     "name": "stdout",
     "output_type": "stream",
     "text": [
      "\n",
      "Best params: {'class_weight': {0: 0.3, 1: 0.7}, 'criterion': 'gini', 'max_features': 'auto', 'n_estimators': 500, 'random_state': 33}\n",
      "Score: 0.76\n",
      "Wall time: 4min 53s\n"
     ]
    }
   ],
   "source": [
    "%%time\n",
    "# Number of trees in random forest\n",
    "n_estimators = [100, 250, 500, 750, 1000]\n",
    "max_features = ['auto', 'sqrt']\n",
    "criterion = ['gini', 'entropy']\n",
    "if balance_data == 'yes':\n",
    "    class_weight = [None]\n",
    "else:\n",
    "    class_weight = [None,'balanced',\n",
    "                    {0:.9, 1:.1}, {0:.8, 1:.2}, {0:.7, 1:.3}, {0:.6, 1:.4},\n",
    "                    {0:.4, 1:.6}, {0:.3, 1:.7}, {0:.2, 1:.8}, {0:.1, 1:.9}]\n",
    "random_state = [33]\n",
    "\n",
    "# Create the random grid\n",
    "param_grid = {'n_estimators': n_estimators,\n",
    "              'max_features': max_features,\n",
    "              'criterion': criterion,\n",
    "              'random_state': random_state,\n",
    "              'class_weight': class_weight}\n",
    "\n",
    "# setup model building\n",
    "rf = GridSearchCV(RandomForestClassifier(), param_grid, n_jobs=-1, cv=5, verbose=1)\n",
    "rf.fit(X_train, y_train)\n",
    "print()\n",
    "print('Best params: %s' % rf.best_params_)\n",
    "print('Score: %.2f' % rf.best_score_)"
   ]
  },
  {
   "cell_type": "markdown",
   "metadata": {},
   "source": [
    "##### Model w/ best parameters"
   ]
  },
  {
   "cell_type": "code",
   "execution_count": 26,
   "metadata": {},
   "outputs": [
    {
     "data": {
      "text/plain": [
       "RandomForestClassifier(bootstrap=True, ccp_alpha=0.0,\n",
       "                       class_weight={0: 0.3, 1: 0.7}, criterion='gini',\n",
       "                       max_depth=None, max_features='auto', max_leaf_nodes=None,\n",
       "                       max_samples=None, min_impurity_decrease=0.0,\n",
       "                       min_impurity_split=None, min_samples_leaf=1,\n",
       "                       min_samples_split=2, min_weight_fraction_leaf=0.0,\n",
       "                       n_estimators=500, n_jobs=-1, oob_score=False,\n",
       "                       random_state=33, verbose=0, warm_start=False)"
      ]
     },
     "execution_count": 26,
     "metadata": {},
     "output_type": "execute_result"
    }
   ],
   "source": [
    "rf_best = RandomForestClassifier(**rf.best_params_, n_jobs=-1)\n",
    "rf_best.fit(X_train, y_train)"
   ]
  },
  {
   "cell_type": "markdown",
   "metadata": {},
   "source": [
    "##### 5-fold cross-validation"
   ]
  },
  {
   "cell_type": "code",
   "execution_count": 27,
   "metadata": {},
   "outputs": [
    {
     "name": "stdout",
     "output_type": "stream",
     "text": [
      "\u001b[1m5-fold External Cross Validation Statistical Characteristcs of QSAR models developed Dragon\n",
      "\u001b[0m\n"
     ]
    },
    {
     "data": {
      "text/html": [
       "<div>\n",
       "<style scoped>\n",
       "    .dataframe tbody tr th:only-of-type {\n",
       "        vertical-align: middle;\n",
       "    }\n",
       "\n",
       "    .dataframe tbody tr th {\n",
       "        vertical-align: top;\n",
       "    }\n",
       "\n",
       "    .dataframe thead th {\n",
       "        text-align: right;\n",
       "    }\n",
       "</style>\n",
       "<table border=\"1\" class=\"dataframe\">\n",
       "  <thead>\n",
       "    <tr style=\"text-align: right;\">\n",
       "      <th></th>\n",
       "      <th>Kappa</th>\n",
       "      <th>CCR</th>\n",
       "      <th>Sensitivity</th>\n",
       "      <th>PPV</th>\n",
       "      <th>Specificity</th>\n",
       "      <th>NPV</th>\n",
       "      <th>Coverage</th>\n",
       "    </tr>\n",
       "  </thead>\n",
       "  <tbody>\n",
       "    <tr>\n",
       "      <th>Dragon</th>\n",
       "      <td>0.45</td>\n",
       "      <td>0.71</td>\n",
       "      <td>0.55</td>\n",
       "      <td>0.71</td>\n",
       "      <td>0.88</td>\n",
       "      <td>0.78</td>\n",
       "      <td>1.00</td>\n",
       "    </tr>\n",
       "    <tr>\n",
       "      <th>Dragon AD</th>\n",
       "      <td>0.65</td>\n",
       "      <td>0.78</td>\n",
       "      <td>0.56</td>\n",
       "      <td>1.00</td>\n",
       "      <td>1.00</td>\n",
       "      <td>0.87</td>\n",
       "      <td>0.54</td>\n",
       "    </tr>\n",
       "  </tbody>\n",
       "</table>\n",
       "</div>"
      ],
      "text/plain": [
       "           Kappa   CCR  Sensitivity   PPV  Specificity   NPV  Coverage\n",
       "Dragon      0.45  0.71         0.55  0.71         0.88  0.78      1.00\n",
       "Dragon AD   0.65  0.78         0.56  1.00         1.00  0.87      0.54"
      ]
     },
     "execution_count": 27,
     "metadata": {},
     "output_type": "execute_result"
    }
   ],
   "source": [
    "# Params\n",
    "pred = []\n",
    "ad = []\n",
    "index = []\n",
    "cross_val = StratifiedKFold(n_splits=5)\n",
    "\n",
    "# Do 5-fold loop\n",
    "for train_index, test_index in cross_val.split(X_train, y_train):\n",
    "    \n",
    "    fold_model = rf_best.fit(X_train.iloc[train_index], y_train[train_index])\n",
    "    fold_pred = rf_best.predict(X_train.iloc[test_index])\n",
    "    fold_ad = rf_best.predict_proba(X_train.iloc[test_index])\n",
    "    pred.append(fold_pred)\n",
    "    ad.append(fold_ad)\n",
    "    index.append(test_index)\n",
    "\n",
    "threshold_ad = 0.70\n",
    "\n",
    "# Prepare results to export    \n",
    "fold_index = np.concatenate(index)    \n",
    "fold_pred = np.concatenate(pred)\n",
    "fold_ad = np.concatenate(ad)\n",
    "fold_ad = (np.amax(fold_ad, axis=1) >= threshold_ad).astype(str)\n",
    "five_fold_dragon = pd.DataFrame({'Prediction': fold_pred,'AD': fold_ad}, index=list(fold_index))\n",
    "five_fold_dragon.AD[five_fold_dragon.AD == 'False'] = np.nan\n",
    "five_fold_dragon.AD[five_fold_dragon.AD == 'True'] = five_fold_dragon.Prediction\n",
    "five_fold_dragon.sort_index(inplace=True)\n",
    "five_fold_dragon['y_train'] = pd.DataFrame(y_train)\n",
    "five_fold_dragon_ad = five_fold_dragon.dropna().astype(int)\n",
    "coverage_5f = len(five_fold_dragon_ad) / len(five_fold_dragon)\n",
    "\n",
    "# dragon stats\n",
    "dragon = pd.DataFrame(stats(five_fold_dragon['y_train'], five_fold_dragon['Prediction']))\n",
    "dragon['Coverage'] = 1.0\n",
    "\n",
    "# dragon AD stats\n",
    "dragon_ad = five_fold_dragon.dropna(subset=['AD']).astype(int)\n",
    "coverage_dragon_ad = len(dragon_ad['AD']) / len(five_fold_dragon['y_train'])\n",
    "dragon_ad = pd.DataFrame(stats(dragon_ad['y_train'], dragon_ad['AD']))\n",
    "dragon_ad['Coverage'] = round(coverage_dragon_ad, 2)\n",
    "\n",
    "# print stats\n",
    "print('\\033[1m' + '5-fold External Cross Validation Statistical Characteristcs of QSAR models developed Dragon' + '\\n' + '\\033[0m')\n",
    "dragon_5f_stats = dragon.append(dragon_ad)\n",
    "dragon_5f_stats.set_index([['Dragon', 'Dragon AD']], drop=True, inplace=True)\n",
    "dragon_5f_stats"
   ]
  },
  {
   "cell_type": "markdown",
   "metadata": {},
   "source": [
    "##### Predict external withheld set after balancing"
   ]
  },
  {
   "cell_type": "code",
   "execution_count": 28,
   "metadata": {},
   "outputs": [],
   "source": [
    "moldf_ext = moldf_desc[(moldf_desc['Set'] == 'ext')]\n",
    "descriptor_list = list(X_train.columns.values)\n",
    "\n",
    "if len(moldf_ext) > 0:\n",
    "    y_ext = moldf_ext['Outcome'].to_numpy()\n",
    "    X_ext = moldf_ext[descriptors]\n",
    "    \n",
    "    # Filter out descriptors not present in the model\n",
    "    X_ext = X_ext[descriptor_list]\n",
    "    \n",
    "    # Make predictions\n",
    "    ext_set_dragon = rf_best.predict(X_ext)\n",
    "    ext_set_dragon_ad = rf_best.predict_proba(X_ext)\n",
    "    ext_set_dragon_ad = (np.amax(ext_set_dragon_ad, axis=1) >= threshold_ad).astype(str)\n",
    "    \n",
    "    # Prepare data\n",
    "    ext_set_dragon = pd.DataFrame({'Prediction': ext_set_dragon,'AD': ext_set_dragon_ad})\n",
    "    ext_set_dragon.AD[ext_set_dragon.AD == 'False'] = np.nan\n",
    "    ext_set_dragon.AD[ext_set_dragon.AD == 'True'] = ext_set_dragon.Prediction\n",
    "    ext_set_dragon.sort_index(inplace=True)\n",
    "    ext_set_dragon['y_ext'] = pd.DataFrame(y_ext)\n",
    "    ext_set_dragon_ad = ext_set_dragon.dropna().astype(int)\n",
    "    coverage_ext = len(ext_set_dragon_ad) / len(ext_set_dragon)\n",
    "    \n",
    "    # ext_set_dragon stats\n",
    "    dragon_ext = pd.DataFrame(stats(ext_set_dragon['y_ext'], ext_set_dragon['Prediction']))\n",
    "    dragon_ext['Coverage'] = 1.0\n",
    "    \n",
    "    # ext_set_dragon AD stats\n",
    "    dragon_ext_ad = ext_set_dragon.dropna(subset=['AD']).astype(int)\n",
    "    coverage_dragon_ext_ad = len(dragon_ext_ad['AD']) / len(ext_set_dragon['y_ext'])\n",
    "    dragon_ext_ad = pd.DataFrame(stats(dragon_ext_ad['y_ext'], dragon_ext_ad['AD']))\n",
    "    dragon_ext_ad['Coverage'] = round(coverage_dragon_ext_ad, 2)\n",
    "    \n",
    "    # print stats\n",
    "    print('\\033[1m' + 'Statistical Characteristcs of the Prediction of the External Withheld Set by Dragon Models' + '\\n' + '\\033[0m')\n",
    "    ext_set_dragon_stats = dragon_ext.append(dragon_ext_ad)\n",
    "    ext_set_dragon_stats.set_index([['Dragon Ext.', 'Dragon Ext. AD']], drop=True, inplace=True)\n",
    "    ext_set_dragon_stats\n",
    "else:\n",
    "    pass"
   ]
  },
  {
   "cell_type": "markdown",
   "metadata": {},
   "source": [
    "##### Y-randomization"
   ]
  },
  {
   "cell_type": "code",
   "execution_count": 29,
   "metadata": {},
   "outputs": [
    {
     "name": "stderr",
     "output_type": "stream",
     "text": [
      "[Parallel(n_jobs=-1)]: Using backend LokyBackend with 8 concurrent workers.\n"
     ]
    },
    {
     "name": "stdout",
     "output_type": "stream",
     "text": [
      "True score =  0.71 \n",
      "Y-randomization =  0.51 \n",
      "p-value =  0.0476\n"
     ]
    },
    {
     "name": "stderr",
     "output_type": "stream",
     "text": [
      "[Parallel(n_jobs=-1)]: Done  20 out of  20 | elapsed:   30.6s finished\n"
     ]
    }
   ],
   "source": [
    "permutations = 20\n",
    "score, permutation_scores, pvalue = permutation_test_score(rf_best, X_train, y_train,\n",
    "                                                           cv=5, scoring='balanced_accuracy',\n",
    "                                                           n_permutations=permutations,\n",
    "                                                           n_jobs=-1,\n",
    "                                                           verbose=1,\n",
    "                                                           random_state=24)\n",
    "print('True score = ', score.round(2),\n",
    "      '\\nY-randomization = ', np.mean(permutation_scores).round(2),\n",
    "      '\\np-value = ', pvalue.round(4))"
   ]
  },
  {
   "cell_type": "markdown",
   "metadata": {},
   "source": [
    "##### Save model"
   ]
  },
  {
   "cell_type": "code",
   "execution_count": 30,
   "metadata": {},
   "outputs": [],
   "source": [
    "with gzip.GzipFile('model/sars-cov-3clpro-dragon_RF_ad_balanced.pgz', 'w') as f:\n",
    "    cPickle.dump(rf_best, f)"
   ]
  },
  {
   "cell_type": "markdown",
   "metadata": {},
   "source": [
    "### Plot stats"
   ]
  },
  {
   "cell_type": "code",
   "execution_count": 31,
   "metadata": {},
   "outputs": [
    {
     "data": {
      "text/html": [
       "<div>\n",
       "<style scoped>\n",
       "    .dataframe tbody tr th:only-of-type {\n",
       "        vertical-align: middle;\n",
       "    }\n",
       "\n",
       "    .dataframe tbody tr th {\n",
       "        vertical-align: top;\n",
       "    }\n",
       "\n",
       "    .dataframe thead th {\n",
       "        text-align: right;\n",
       "    }\n",
       "</style>\n",
       "<table border=\"1\" class=\"dataframe\">\n",
       "  <thead>\n",
       "    <tr style=\"text-align: right;\">\n",
       "      <th></th>\n",
       "      <th>Kappa</th>\n",
       "      <th>CCR</th>\n",
       "      <th>Sensitivity</th>\n",
       "      <th>PPV</th>\n",
       "      <th>Specificity</th>\n",
       "      <th>NPV</th>\n",
       "      <th>Coverage</th>\n",
       "    </tr>\n",
       "  </thead>\n",
       "  <tbody>\n",
       "    <tr>\n",
       "      <th>Dragon</th>\n",
       "      <td>0.45</td>\n",
       "      <td>0.71</td>\n",
       "      <td>0.55</td>\n",
       "      <td>0.71</td>\n",
       "      <td>0.88</td>\n",
       "      <td>0.78</td>\n",
       "      <td>1.00</td>\n",
       "    </tr>\n",
       "    <tr>\n",
       "      <th>Dragon AD</th>\n",
       "      <td>0.65</td>\n",
       "      <td>0.78</td>\n",
       "      <td>0.56</td>\n",
       "      <td>1.00</td>\n",
       "      <td>1.00</td>\n",
       "      <td>0.87</td>\n",
       "      <td>0.54</td>\n",
       "    </tr>\n",
       "  </tbody>\n",
       "</table>\n",
       "</div>"
      ],
      "text/plain": [
       "           Kappa   CCR  Sensitivity   PPV  Specificity   NPV  Coverage\n",
       "Dragon      0.45  0.71         0.55  0.71         0.88  0.78      1.00\n",
       "Dragon AD   0.65  0.78         0.56  1.00         1.00  0.87      0.54"
      ]
     },
     "execution_count": 31,
     "metadata": {},
     "output_type": "execute_result"
    }
   ],
   "source": [
    "# Export stats\n",
    "if len(moldf_ext) > 0:\n",
    "    dragon_stats = pd.concat([dragon_5f_stats, ext_set_dragon_stats], axis=0)\n",
    "    dragon_stats\n",
    "else:\n",
    "    dragon_stats = dragon_5f_stats.copy()\n",
    "    dragon_stats"
   ]
  },
  {
   "cell_type": "code",
   "execution_count": 32,
   "metadata": {},
   "outputs": [
    {
     "data": {
      "image/png": "[encoded data removed]",
      "text/plain": [
       "<Figure size 1040x650 with 1 Axes>"
      ]
     },
     "metadata": {
      "needs_background": "light"
     },
     "output_type": "display_data"
    }
   ],
   "source": [
    "# Transpose stats\n",
    "dragon_stats_t = dragon_stats.T\n",
    "dragon_stats_t = dragon_stats_t.reset_index()\n",
    "dragon_stats_t = dragon_stats_t.rename(columns={'index': 'Stats'})\n",
    "\n",
    "# Make plot\n",
    "plt.style.use('seaborn-colorblind')\n",
    "fig, ax1 = plt.subplots(figsize=(8,5), dpi=130)\n",
    "\n",
    "dragon_stats_t.plot(kind='bar', ax=ax1, width=0.8)\n",
    "ax1.set_xticklabels(labels=dragon_stats_t['Stats'].tolist(), fontsize=14, rotation=0)\n",
    "ax1.axhline(y=.6, color='indianred', ls='dashed')\n",
    "ax1.legend_.remove()\n",
    "plt.title('Statistical characteristics', fontsize=16)\n",
    "ax1.set_yticks(np.arange(0, 1.1, 0.1))\n",
    "ax1.tick_params(labelsize=12)\n",
    "\n",
    "handles, labels = ax1.get_legend_handles_labels()\n",
    "ax1.legend(handles, labels, fontsize=12,\n",
    "            loc='upper center', bbox_to_anchor=(0.5, -0.09), ncol=4)\n",
    "fig.tight_layout()\n",
    "\n",
    "plt.savefig('statistics-dragon.png', bbox_inches='tight', transparent=False, format='png', dpi=300)\n",
    "plt.show();"
   ]
  },
  {
   "cell_type": "markdown",
   "metadata": {},
   "source": [
    "# Consensus"
   ]
  },
  {
   "cell_type": "code",
   "execution_count": 33,
   "metadata": {},
   "outputs": [],
   "source": [
    "results_sirms = five_fold_sirms.drop(columns='y_train')\n",
    "results_sirms = five_fold_sirms.rename(columns={'Prediction':'sirms', 'AD':'sirms_ad'})\n",
    "results_dragon = five_fold_dragon.drop(columns='y_train')\n",
    "results_dragon = five_fold_dragon.rename(columns={'Prediction':'dragon', 'AD':'dragon_ad'})"
   ]
  },
  {
   "cell_type": "code",
   "execution_count": 34,
   "metadata": {},
   "outputs": [],
   "source": [
    "var = list(moldf.columns.values)\n",
    "moldf_train = moldf_train[var]\n",
    "predictions = pd.concat([moldf_train.reset_index(drop=True), results_sirms, results_dragon], axis=1)"
   ]
  },
  {
   "cell_type": "markdown",
   "metadata": {},
   "source": [
    "#### Consensus predictions"
   ]
  },
  {
   "cell_type": "code",
   "execution_count": 35,
   "metadata": {},
   "outputs": [],
   "source": [
    "# Consensus\n",
    "predictions['consensus'] = (predictions.sirms + predictions.dragon)/2\n",
    "predictions['consensus'] = np.where(predictions['consensus'] > 0.5, 1, 0)\n",
    "\n",
    "# Consensus AD\n",
    "for i in range(0, predictions.shape[0]):\n",
    "    if all([np.isnan(predictions.sirms_ad[i]) == False, np.isnan(predictions.dragon_ad[i]) == False]):\n",
    "        predictions.loc[i,'consensus_ad'] = (predictions.sirms_ad[i] + predictions.dragon_ad[i])/2\n",
    "        predictions.loc[i,'consensus_ad'] = np.where(predictions.loc[i,'consensus_ad'] > 0.5, 1, 0)\n",
    "    elif all([np.isnan(predictions.sirms_ad[i]) == True, np.isnan(predictions.dragon_ad[i]) == False]):\n",
    "        predictions.loc[i,'consensus_ad'] = predictions.dragon_ad[i]\n",
    "    elif all([np.isnan(predictions.sirms_ad[i]) == False, np.isnan(predictions.dragon_ad[i]) == True]):\n",
    "        predictions.loc[i,'consensus_ad'] = predictions.sirms_ad[i]\n",
    "    else:\n",
    "        predictions.loc[i,'consensus_ad']  = np.nan\n",
    "\n",
    "# Consensus Rigor\n",
    "for i in range(0, predictions.shape[0]):\n",
    "    if all([np.isnan(predictions.sirms_ad[i]) == False, np.isnan(predictions.dragon_ad[i]) == False]):\n",
    "        predictions.loc[i,'consensus_rigor'] = (predictions.sirms_ad[i] + predictions.dragon_ad[i])/2\n",
    "        predictions.loc[i,'consensus_rigor'] = np.where(predictions.loc[i,'consensus_rigor'] > 0.5, 1, 0)\n",
    "    else:\n",
    "        predictions.loc[i,'consensus_rigor']  = np.nan\n",
    "        \n",
    "predictions.drop(columns=['y_train', 'ID'], inplace=True)"
   ]
  },
  {
   "cell_type": "code",
   "execution_count": 36,
   "metadata": {},
   "outputs": [],
   "source": [
    "##### SiRMS\n",
    "\n",
    "# SiRMS stats\n",
    "sirms = pd.DataFrame(stats(predictions.Outcome, predictions.sirms))\n",
    "sirms['Coverage'] = 1.0\n",
    "\n",
    "# SiRMS AD stats\n",
    "sirms_ad = predictions.dropna(subset=['sirms_ad'])\n",
    "coverage_sirms_ad = len(sirms_ad.sirms_ad) / len(predictions.Outcome)\n",
    "sirms_ad = pd.DataFrame(stats(sirms_ad.Outcome, sirms_ad.sirms_ad.astype(int)))\n",
    "sirms_ad['Coverage'] = round(coverage_sirms_ad, 2)\n",
    "\n",
    "##### DRAGON\n",
    "\n",
    "# dragon stats\n",
    "dragon = pd.DataFrame(stats(predictions.Outcome, predictions.dragon))\n",
    "dragon['Coverage'] = 1.0\n",
    "\n",
    "# dragon AD stats\n",
    "dragon_ad = predictions.dropna(subset=['dragon_ad'])\n",
    "coverage_dragon_ad = len(dragon_ad.dragon_ad) / len(predictions.Outcome)\n",
    "dragon_ad = pd.DataFrame(stats(dragon_ad.Outcome, dragon_ad.dragon_ad.astype(int)))\n",
    "dragon_ad['Coverage'] = round(coverage_dragon_ad, 2)\n",
    "\n",
    "##### Consensus\n",
    "\n",
    "# consensus stats\n",
    "consensus = pd.DataFrame(stats(predictions.Outcome, predictions.consensus))\n",
    "consensus['Coverage'] = 1.0\n",
    "\n",
    "# consensus AD stats\n",
    "consensus_ad = predictions.dropna(subset=['consensus_ad'])\n",
    "coverage_consensus_ad = len(consensus_ad.consensus_ad) / len(predictions.Outcome)\n",
    "\n",
    "consensus_ad = pd.DataFrame(stats(consensus_ad.Outcome, consensus_ad.consensus_ad.astype(int)))\n",
    "consensus_ad['Coverage'] = round(coverage_consensus_ad, 2)\n",
    "\n",
    "# consensus rigor stats\n",
    "consensus_rigor = predictions.dropna(subset=['consensus_rigor'])\n",
    "coverage_consensus_rigor = len(consensus_rigor.consensus_rigor) / len(predictions.Outcome)\n",
    "consensus_rigor = pd.DataFrame(stats(consensus_rigor.Outcome, consensus_rigor.consensus_rigor.astype(int)))\n",
    "consensus_rigor['Coverage'] = round(coverage_consensus_rigor, 2)"
   ]
  },
  {
   "cell_type": "markdown",
   "metadata": {},
   "source": [
    "##### Export predictions"
   ]
  },
  {
   "cell_type": "code",
   "execution_count": 37,
   "metadata": {
    "scrolled": false
   },
   "outputs": [],
   "source": [
    "pred_exp = predictions.drop(columns=['Mol'])\n",
    "\n",
    "with pd.ExcelWriter('predictions-sirms-dragon.xlsx') as writer:\n",
    "    pred_exp.to_excel(writer, sheet_name='sirms-dragon', index=False)"
   ]
  },
  {
   "cell_type": "markdown",
   "metadata": {},
   "source": [
    "##### Stats"
   ]
  },
  {
   "cell_type": "code",
   "execution_count": 38,
   "metadata": {},
   "outputs": [
    {
     "data": {
      "text/html": [
       "<div>\n",
       "<style scoped>\n",
       "    .dataframe tbody tr th:only-of-type {\n",
       "        vertical-align: middle;\n",
       "    }\n",
       "\n",
       "    .dataframe tbody tr th {\n",
       "        vertical-align: top;\n",
       "    }\n",
       "\n",
       "    .dataframe thead th {\n",
       "        text-align: right;\n",
       "    }\n",
       "</style>\n",
       "<table border=\"1\" class=\"dataframe\">\n",
       "  <thead>\n",
       "    <tr style=\"text-align: right;\">\n",
       "      <th></th>\n",
       "      <th>Kappa</th>\n",
       "      <th>CCR</th>\n",
       "      <th>Sensitivity</th>\n",
       "      <th>PPV</th>\n",
       "      <th>Specificity</th>\n",
       "      <th>NPV</th>\n",
       "      <th>Coverage</th>\n",
       "    </tr>\n",
       "  </thead>\n",
       "  <tbody>\n",
       "    <tr>\n",
       "      <th>SiRMS</th>\n",
       "      <td>0.68</td>\n",
       "      <td>0.83</td>\n",
       "      <td>0.72</td>\n",
       "      <td>0.86</td>\n",
       "      <td>0.93</td>\n",
       "      <td>0.85</td>\n",
       "      <td>0.61</td>\n",
       "    </tr>\n",
       "    <tr>\n",
       "      <th>Dragon</th>\n",
       "      <td>0.65</td>\n",
       "      <td>0.78</td>\n",
       "      <td>0.56</td>\n",
       "      <td>1.00</td>\n",
       "      <td>1.00</td>\n",
       "      <td>0.87</td>\n",
       "      <td>0.54</td>\n",
       "    </tr>\n",
       "    <tr>\n",
       "      <th>Consensus</th>\n",
       "      <td>0.48</td>\n",
       "      <td>0.72</td>\n",
       "      <td>0.52</td>\n",
       "      <td>0.78</td>\n",
       "      <td>0.92</td>\n",
       "      <td>0.78</td>\n",
       "      <td>1.00</td>\n",
       "    </tr>\n",
       "    <tr>\n",
       "      <th>Consensus (AD)</th>\n",
       "      <td>0.62</td>\n",
       "      <td>0.79</td>\n",
       "      <td>0.64</td>\n",
       "      <td>0.86</td>\n",
       "      <td>0.94</td>\n",
       "      <td>0.83</td>\n",
       "      <td>0.71</td>\n",
       "    </tr>\n",
       "    <tr>\n",
       "      <th>Consensus Rigor</th>\n",
       "      <td>0.77</td>\n",
       "      <td>0.85</td>\n",
       "      <td>0.69</td>\n",
       "      <td>1.00</td>\n",
       "      <td>1.00</td>\n",
       "      <td>0.90</td>\n",
       "      <td>0.44</td>\n",
       "    </tr>\n",
       "  </tbody>\n",
       "</table>\n",
       "</div>"
      ],
      "text/plain": [
       "                 Kappa   CCR  Sensitivity   PPV  Specificity   NPV  Coverage\n",
       "SiRMS             0.68  0.83         0.72  0.86         0.93  0.85      0.61\n",
       "Dragon            0.65  0.78         0.56  1.00         1.00  0.87      0.54\n",
       "Consensus         0.48  0.72         0.52  0.78         0.92  0.78      1.00\n",
       "Consensus (AD)    0.62  0.79         0.64  0.86         0.94  0.83      0.71\n",
       "Consensus Rigor   0.77  0.85         0.69  1.00         1.00  0.90      0.44"
      ]
     },
     "execution_count": 38,
     "metadata": {},
     "output_type": "execute_result"
    }
   ],
   "source": [
    "stats = pd.concat([sirms_ad, dragon_ad, consensus, consensus_ad, consensus_rigor], axis=0)\n",
    "stats.set_index([['SiRMS', 'Dragon', 'Consensus', 'Consensus (AD)', 'Consensus Rigor']], drop=True, inplace=True)\n",
    "\n",
    "stats"
   ]
  },
  {
   "cell_type": "code",
   "execution_count": 39,
   "metadata": {},
   "outputs": [
    {
     "data": {
      "image/png": "[encoded data removed]",
      "text/plain": [
       "<Figure size 1040x650 with 1 Axes>"
      ]
     },
     "metadata": {
      "needs_background": "light"
     },
     "output_type": "display_data"
    }
   ],
   "source": [
    "# Transpose stats\n",
    "stats_t = stats.T\n",
    "stats_t = stats_t.reset_index()\n",
    "stats_t = stats_t.rename(columns={'index': 'Stats'})\n",
    "\n",
    "# Make plot\n",
    "plt.style.use('seaborn-colorblind')\n",
    "fig, ax1 = plt.subplots(figsize=(8,5), dpi=130)\n",
    "\n",
    "stats_t.plot(kind='bar', ax=ax1, width=0.8)\n",
    "ax1.set_xticklabels(labels=stats_t['Stats'].tolist(), fontsize=14, rotation=0)\n",
    "ax1.axhline(y=.6, color='indianred', ls='dashed')\n",
    "ax1.legend_.remove()\n",
    "plt.title('Statistical Characteristics of QSAR ', fontsize=16)\n",
    "ax1.set_yticks(np.arange(0, 1.1, 0.1))\n",
    "ax1.tick_params(labelsize=12)\n",
    "\n",
    "handles, labels = ax1.get_legend_handles_labels()\n",
    "ax1.legend(handles, labels, fontsize=10,\n",
    "            loc='upper center', bbox_to_anchor=(0.5, -0.09), ncol=5)\n",
    "fig.tight_layout()\n",
    "\n",
    "plt.savefig('statistics-sirms-dragon-5f.png', bbox_inches='tight', transparent=False, format='png', dpi=300)\n",
    "plt.show();"
   ]
  }
 ],
 "metadata": {
  "kernelspec": {
   "display_name": "rdkit-env",
   "language": "python",
   "name": "rdkit-env"
  },
  "language_info": {
   "codemirror_mode": {
    "name": "ipython",
    "version": 3
   },
   "file_extension": ".py",
   "mimetype": "text/x-python",
   "name": "python",
   "nbconvert_exporter": "python",
   "pygments_lexer": "ipython3",
   "version": "3.8.2"
  }
 },
 "nbformat": 4,
 "nbformat_minor": 2
}
