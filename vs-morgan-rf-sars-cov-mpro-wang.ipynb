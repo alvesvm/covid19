{
 "cells": [
  {
   "cell_type": "markdown",
   "metadata": {},
   "source": [
    "# VS of phenotypic compounds tested in SARS-CoV-2  by (M<sup>pro</sup>) QSAR models of SARS-CoV"
   ]
  },
  {
   "cell_type": "markdown",
   "metadata": {},
   "source": [
    "## Importing modules and functions        \n",
    "    "
   ]
  },
  {
   "cell_type": "code",
   "execution_count": 1,
   "metadata": {},
   "outputs": [
    {
     "name": "stderr",
     "output_type": "stream",
     "text": [
      "RDKit WARNING: [15:37:51] Enabling RDKit 2019.09.3 jupyter extensions\n"
     ]
    },
    {
     "data": {
      "text/html": [
       "<style>.container { width:90% !important; }</style>"
      ],
      "text/plain": [
       "<IPython.core.display.HTML object>"
      ]
     },
     "metadata": {},
     "output_type": "display_data"
    }
   ],
   "source": [
    "import numpy as np\n",
    "import pandas as pd\n",
    "import seaborn as sns\n",
    "import matplotlib.pyplot as plt\n",
    "import csv\n",
    "import _pickle as cPickle\n",
    "import gzip\n",
    "\n",
    "from BalanceBySim import *\n",
    "from stats import *\n",
    "\n",
    "from collections import Counter\n",
    "\n",
    "from rdkit import Chem\n",
    "from rdkit.Chem import AllChem\n",
    "from rdkit.Chem import Draw\n",
    "from rdkit.Chem import PandasTools\n",
    "from rdkit.Chem.Draw import IPythonConsole\n",
    "\n",
    "from sklearn import metrics\n",
    "from sklearn.ensemble import RandomForestClassifier\n",
    "from sklearn.model_selection import train_test_split, cross_validate, GridSearchCV\n",
    "from sklearn.model_selection import permutation_test_score, StratifiedKFold\n",
    "\n",
    "def warn(*args, **kwargs):\n",
    "    pass\n",
    "import warnings\n",
    "warnings.filterwarnings(\"ignore\")\n",
    "warnings.warn = warn\n",
    "\n",
    "from IPython.core.interactiveshell import InteractiveShell\n",
    "InteractiveShell.ast_node_interactivity = \"all\"\n",
    "%matplotlib inline\n",
    "%reload_ext autoreload\n",
    "%autoreload 2\n",
    "Draw.DrawingOptions.atomLabelFontFace = \"DejaVu Sans\"\n",
    "Draw.DrawingOptions.atomLabelFontSize = 18\n",
    "\n",
    "from IPython.core.display import display, HTML\n",
    "display(HTML(\"<style>.container { width:90% !important; }</style>\"))"
   ]
  },
  {
   "cell_type": "markdown",
   "metadata": {},
   "source": [
    "# Import screening data"
   ]
  },
  {
   "cell_type": "code",
   "execution_count": 2,
   "metadata": {},
   "outputs": [],
   "source": [
    "# Set file path and format\n",
    "file = 'datasets/curated_data/wang_et_al_2020.sdf.gz'\n",
    "\n",
    "# Read SDF\n",
    "sdfInfo = dict(molColName='ROMol')\n",
    "moldf = PandasTools.LoadSDF(file, **sdfInfo);\n",
    "#print('Original data: ', moldf.shape)\n",
    "# Rename ROMol\n",
    "moldf = moldf.rename(columns={'ROMol': 'Mol'})\n",
    "# Remove missing RDKit molecules\n",
    "moldf = moldf[pd.notnull(moldf['Mol'])]\n",
    "if 'StandardizerResult' in moldf.columns:\n",
    "    moldf = moldf.drop(columns='StandardizerResult')"
   ]
  },
  {
   "cell_type": "code",
   "execution_count": 3,
   "metadata": {
    "scrolled": false
   },
   "outputs": [
    {
     "name": "stdout",
     "output_type": "stream",
     "text": [
      "Kept data:  (7, 5)\n"
     ]
    },
    {
     "data": {
      "text/html": [
       "<div>\n",
       "<style scoped>\n",
       "    .dataframe tbody tr th:only-of-type {\n",
       "        vertical-align: middle;\n",
       "    }\n",
       "\n",
       "    .dataframe tbody tr th {\n",
       "        vertical-align: top;\n",
       "    }\n",
       "\n",
       "    .dataframe thead th {\n",
       "        text-align: right;\n",
       "    }\n",
       "</style>\n",
       "<table border=\"1\" class=\"dataframe\">\n",
       "  <thead>\n",
       "    <tr style=\"text-align: right;\">\n",
       "      <th></th>\n",
       "      <th>Compound_name</th>\n",
       "      <th>Outcome</th>\n",
       "      <th>InChIKey</th>\n",
       "      <th>ID</th>\n",
       "      <th>Mol</th>\n",
       "    </tr>\n",
       "  </thead>\n",
       "  <tbody>\n",
       "    <tr>\n",
       "      <th>0</th>\n",
       "      <td>Remdesivir</td>\n",
       "      <td>Active</td>\n",
       "      <td>RWWYLEGWBNMMLJ-MEUHYHILSA-N</td>\n",
       "      <td></td>\n",
       "      <td><img data-content=\"rdkit/molecule\" src=\"data:image/png;base64,iVBORw0KGgoAAAANSUhEUgAAAMgAAADICAIAAAAiOjnJAAAABmJLR0QA/wD/AP+gvaeTAAAdbElEQVR4nO2deVhTVxrG34SwiwIKgqJDZVOsKwpWLdUR7aC4S2urVOsC6owoKqUztsUFLdUqwaUtWrU4Vadq1TKCRVxxB8E6Sq2SKigQFUSQJSxJzvxxIYIg3Cw3IXB+D08fc+853/lCX876nXN4hBBQKJqGr2sHKK0TKiwKJ1BhUTiBCovCCVRYFE6gwqJwAhUWhROosCicQIVF4QQqLAonUGFROIEKi8IJVFgUTqDConACFRaFE6iwKJxAhUXhBCosCidQYVE4gQqLwglUWBROoMKicAIVFoUTqLAonECFReEEKiwKJ1BhUThB0MS7tLS0qqoqNla6d+/etWtXDbmkT2RlZd2+fbuwsHDSpEnt27fXtTstCfJ6bG1tWRqZP39+bGxsE6ZaH2VlZeHh4aampmZmZjwer2PHjkKhUCqV6tqvlgKPvP60mXHjxhUWFjarqvLy8lu3bpmbm9+9e7dLly5sFa23EEL2798fFhaWm5vL4/HGjh2bn5+fkpICwMPDQygUDh8+XNc+tgA0Is8pU6YA+OijjzRirSVz/fr1YcOGMb86Dw+PCxcuMM/j4uIcHR2Z535+fg8ePNCpm7pHM8K6f/++iYkJj8e7evWqRgy2QPLy8gIDA/l8PgB7e/uYmJjy8vLIyMjTp08zCZiP7dq1A2BqahoWFlZSUqJbn3WIZoRFCPnnP/8JYMiQIXK5XFM2WwhVVVVCoZDpmxsaGgYHBxcXFx89etTJyQlA7969ZTKZInFOTk5AQACPxwPQtWvX2NjY1vcLYYPGhFVSUsJ0sPbu3aspmy2BuLg4RkBMGycSie7cuePr68s8cXNzS0hIaJjr2rVrQ4YMYdJ4enpeuXJF+57rFo0JixDyww8/ALCzsysuLtagWV0hl8sVAnrzzTdPnTpVWFgYHBwsEAgAWFlZCYXC6urq12WXyWTff/99586dAfD5/M8//1ybzuscTQpLLpd7eXkBWLlypQbN6opjx44NHjzYwsJCKBRKJJKYmBgbGxsAAoEgMDDw6dOnbIyUlpaGh4cbGhpOnDjxxo0bXPvcctCksAghV65c4fF4xsbGmZmZmrWsfRYvXgzgyy+/JIRs376dqbp8fHxu376trKkJEyYA2LdvHwdutlA0vKQzZMiQGTNmVFZWMn35VoCZmRmAOXPmjB49+tixY0lJSb1792aZNy4ubteuXQUFBebm5lz62BLR/FohM+Q+fPhwUlKSxo2zRSQCj1fzIxKpb8/ExOTkyZMTJ05UKldERMS8efPu37+vvgN6h+aF1bVr17CwMAAhISFSqVTj9ptHJIKLCwip+XFx0Yi2KErR1CK0yqxYsWLnzp0ZGRl9+vTp1KkTmyz79u1zcHBgph/VJT4eCQkvPyYkID4eS5ZowDKFNZwIy8TExMXFpbS09I8//mCZpV+/fkKhcNasWVz4Q9E+nAgrLS3t7NmzAoHgwIEDbMJpTp48GRERERYWNnnyZBp80jrQvLAIIUuWLJHL5StWrJg+fTqbLMOHDz937tzFixcjIyPXr1+vrgfjxtX0sRjGjkVmpro2KUqi+c77v//970uXLnXu3JnpwrOBx+N9/fXXPB4vKioq58ED1ct+9gwffwxDQ2RmvhwVZmbC2Vl1mxSV0LCwysvLP/vsMwAbNmxQqlHz8vJau2jR3QEDHFasUL34L77ADz9g8WLY26O0tGZUSFWlCzQsrHXr1j169MjDw2PmzJnK5l35+efdMzJw5AhOnlSl7N9/x44dEAiwfj3WrIGbGxITVbFD0QSaFNaDBw82b97M4/GEQqEqEwedO4NpPUNCoMIEGJNr0SKYmiI6GmIxrK2VNvJ6tm7d+uzZM6WyjBgxYuLEiVZWVhp0Q2/Q4PLQ1KlTAQQEBKhuorKSuLgQgGzfrlS+U7/8kuvlRTp2JM+ekQkTCEDmzFHdDUJI7VphdHQ0IeSXX34BYGVlFRkZWVlZqaypDz74AG1srVBjwjpz5gwAMzOz7OxstQz9/DOZMIEos4ZdUVHBhEwd//77qlOnCEAsLIhYrJYbhERERNjZ2fXu3TsjI+P3338fPXo086fo7u6emJjI3s7Vq1e7dOni6Oh4/PhxNV3SIzQjLKlU2q9fPwAREREaMagUzAyFu7u7RCIZ2Lfvf7y9JZs2qW9WJpO5ubkBMDIy+uSTT4qLi5OSktzd3Rl5+fj4ZGRkNG0hKyvL39+fSa9WRa6HaEZY3377LYBu3bqVlZVpxCDJzCRAzU+Ttdfjx4+Z4WdiYuKWLVsA9OjRo6KiQiNeFBQUBAcHGxgYAGA2eEkkEqFQ2KFDB9SGKRcVFTXMqNgcxtTibTD+vantX0lJSZWVlc320srKyhYtWlRYWHjo0KFp06Yp381rgGIVmYHHw/XrEIvrJrloaFhUXQ0gLS1tw4YNXl5eP//8s4uLy7Nnz44dO6ZsGELTpKenL1269MKFCwAGDhwoFApdXV1Xrly5Z88euVzu5uaWkZHBiA8AIeTw4cOhoaHZ2dkA/Pz8tm3b9pe//EWD/ugHTYiO/YZVV1fXd955R2NqFwpJ3UDyhASyePHLCgwggEevXnUd8Pb2HjRoEIC//vWvGnOjPg03eKWlpb399ttRUVGKNNevX1dsKhw4cKBic1gbpKklnTFjxjx//pyNsD766KOxY8eyVKEqmJtj3Li6D962sbHr0YP5t1QqPX/+fEVFRd++faOjozlyYfz48aNGjdq6dWtERMTx48dPnz4dHBwcHx/PRAKKxeJVq1bt2rVLJpPZ29uvWrVq7ty5imqsLaJrZTdGwxpLKGw6x5dffgnA3d29id0NmuKVDV67d++Oiop6ZXMY1z60fFqksJieu4Lm+u+EkMrKShcXFwDbtm3j1rdakpOTBw4cCIBRGIBJkyaJRCLtlN7yaZHCIkqMChUcOXIEgJWVVUFBAdfeMchkso0bNwoEgnbt2iUlJWmnUH2hpQpLJcaMGQNg8eLFWivx0aNHTIOotRL1hVZ18FpUVJRAIPjmm29u3bqla1/aOq1KWO7u7kFBQTKZbOnSpbr2pa3TqoQFYO3atR07djxz5kxcXJyufWnTtDZhWVlZhYeHA1i2bBmbZQM1sefxRN26XbK357ogvaO1CQvAwoUL+/Tp8+eff75uspTZzaogKAgiEUQiBAW9+rBZDAhxevToL/WXmyholcISCARRUVEAIiIixK//X15XRhSN0wqFBWDUqFG+vr4lJSX9+vVzd3d3d3d///1Ed3cwPxkZCAwEgBMndO1o64WTfYU6p7q6uri4GEB+fn5+fj4AW1vZnTs1byUSAIiJAY+HurEdO3Zgx46XH0NDteZvK6R1CmvJkiWXL18G8K9//WvGjBkADAxsZbKat3I5zp4FgISEeg1iYCBiYmr+zbahtLXFxYswNtaU562GViisTZs2MYGHAoEgODiYOVOvLopeua8vjh3Djh1qVE5GRqg9RJlSl9bWx0pISFBslB0zZkxDVb2CoopSUF3NujBNH5bUqtD1mpImSU9PZ07DZlB2V0x5OVmxgvTsSVgFNisfgtGmaD01llgsnjhxYmlpKfPR3NycOaCRPYaG+PVX/PEHtm6RNZ+60cOSKLW0EmFJJJJJkyYxsQYMU6ZMqVt7sUEggDCKHFj+7TKBM0qbnPO8eRNyuWquthFag7DkcvmMGTOY22wUMINBZRnlw5s++CT/RRZOr2w8xbNnWLIEHh64fFkF+20IXbfFGiC0waDO1tZW9RjlQhE5MIHk33n1ubSSXNxAnN4gADEyIiEhtI/VBHovrN27dzf8a1m6dKmGi/kziWx3J6tA/v428fEhzFZV5cNc2w5N7Sts+aSlpb311lvVDWYIUlNTmd1gKiI6gX11Nh19IcOut5CbAht3vBsFpzGqW24z6PcEqUQiaagqNzc3tVTF8DchvJYAgOgEUrbCdwtyUzBoIfj6/RvTGvrdeR88eHBoaKiRkVHdh6p12wGguhznVyPjYCOvunrBczFVFXv0uylkEIlEy5cvZ0JGeTyeSCTqUbuXlS2E4NYhnF6BF4/Q3gHjvsGBOnNg4Xr/K9I+rUFYDElJSdu3b580adLs2bOVy5mejqVL0Z0Pl/OwGwDfaFQ8x/MHNU0hRTV0PHjQOatXEz6fAKR7N5Kym0gryFUh+cqKnP1C157pN/rdx9IAQ4fCwADBwfjfLUi64Nu++HUpJM/x+MbLNJXFuLwRhMU6D6WWttcbZc5IYsjMhI8PHjxAWRlmzEB8PD7xQDdXvLsZLnXOINk7GnmpMLHEwPk6cVkfaWM1VqP3N5mYYMAAxMfDygq95mPR7XqqAjB0BSDAj7+guFhHfusfbUxYjYYkdOyIf/wDCxbg3j3MDgLf8NVc7v7InISoeKxZo01n9Zq21xQ2yldfNfWWx8Pyf+E/RyESgZB6e8cor4EKix0DBuC33/Dmm7r2Q29oPfNYrGh4uqlSN+280vFnl1EqlTIX37cp2lgfy9lZ9fublL+4lRCyf//+N95448033/ztt9/UdV6vaGM1ljpER8PVFb6+NR9PnMC9e9i7F3XCVncOHrwyNZX5t1QqLS0tVayRBwUFfffdd9r1WJe0sRpL4xQUID9f8VNeWppfy/Pnz+tGXhw6dKiqqkqHnmqZNtf2a5j0dMhezsgH8ngfEAKgZ8+erxw4XVhYmJCQMGnSJG17qCt0vKSkRyiz36vRy62nTZumDT9bBrSPpQysR4XV1dV/+9vfmIurFJiYmIjFYktLS059bCHQPpYyODu/HBU2OZw0NDQ8dOiQq6tr3YcVFRU///wzxy62FKiwuMLa2johIaFTp051H+7bt09X/mgZ2hRyS3Jy8ujRoxXjQT6fn5WV1a1bN916pQVojcUt3t7e33zzjeKjXC4/cOCADv3RGlRYnDN37ty6W2rbSGtIm0JtIJfLp02bdvToUebj//73vz59+ujWJa6hNZY24PP5+/bt8/T0ZD62hUqL1ljaIy8vz8vLKycnp1OnTt99912XLl26detmZ2fXeOyDSpEULQcqLK3CnAlgZmZWXBvlzOfzN/n4LC0sRJcucHCAvT26dYOHB/r0UT28pwVA1wq1ysOHD6urq3k83vjx48VicW5u7pMnT7pVVOD69XrpNmxoJIR6iT7tc6TC0irMzQarV68ODg5mnkil0qonT/DwIR4/Rk4O8vLw7BnqHxqgj1BhaY+0tLQLFy5YWlrOmTNH8VAgEAi6dkXXrvWScnaztdago0LtsWnTJgCBgYHNn2E5bhzqXt4+duwrd60rS1ER9u5Fbm7j9whxARWWlsjNzT18+LBAIPj73//efGp1QqjrUFBQ/v338PVF586YNQs//VTzXAv3CFFhaYno6Ojq6ur33nuve/furDIwkRTHjmH4cCh592JBQcHevXvHjx/v4uIWHIxff4VcDh+fGnFq5x4h2sfSBiUlJTt37gSwRNmRnUSCixdhbY1ly1jm2LNnz7x58+RyOQBjY+NZsx4OGdJ9woQaldrYAI3dI6RxaI2lDXbv3l1UVOTt7a2YfGcLk/7qVfY5hg0bZmRk5OfnFxsb++TJk3XruhsYYPZsdOmC+fORmFiT7JV7hDSPTuNX2wRSqdTJyQnA0aNHVclva0sAkpXFpiBPT8+SkpLy8vKsrKzNmzcPHz7cwaGaOX3X2JiMG0d27SKBgTXpAwM5PJWXCotzDh8+DOCNN96QSqWq5B83jgDk4MEmkiQnJ6emphJC3n333Q8//HDw4MG82rGfj0/K5Mnkxx9JURHJzSXh4eSjj15mpMLSY4YNGwZg69atqmX/r1DY19U1LDS00bfPnz8nhGzbti0gIIAQsnPnTmYuw8zMjGkNX7x4kZ1dvHkzGTas5oS5HTtU/ipKQIWlOc6dIyIREYkIIUQuZ56lpqYCsLKyKikpUc3qiRMnAHh7ezd8lZeXZ2NjU11dLRaLra2tKysrCwoKTE1NDx48KJFIHjx4IBQKhw0bZm3tKhAQgJiakilTyJkzqn5BZaCjQs3xn//A3h7bt2P69FInp7mXLgUEBDx+/NjR0bFdu3bGql6W6enpyePxrl+/XvcMiMjIyFGjRg0ePNjR0fH8+fOjRo3q1avX6dOnfX1933rrLUNDw2+//XZZ7UDSwsJi4cKn3t62vr4wN9fMd20WOipkR8OrCRtee+/oiMxMCATo1Knd778nJSW9ePHC1ta2oKDg9u3bU6dOLS8vV6Fka2trJyen8vLyjIyMoqIipgqsqqpiQpynTp169uxZACEhIcyx5Dt37hw9erS3t7elpaW/v39sbKxYLN6yxXbaNO2pCqCjQjY0ulU1M/Pl+IoQEhhIEhKIiwuZOJGsX0/6909MTHzx4gUhJCUlxcbGBoCnp+fTp0+VLbyqqmrgwIEAoqKibty4sWjRIkJIVlZWcnIy87bRXHK5/HWvtAMVFguEQpKQ8PJjQgIRChsR1t27pEMHsnIlWbWKZGfXNSASiZydnQH06tUru/6rpklKSurduzcAExOTYcOGqftFtAgVFgteJyzFDU2Ke5rmzye3bjVqQywWDxgwAIC9vf2NGzeaLfPu3bt+fn5Mq+Ls7GxhYQHgypUrmvpOXEP7WGoQGPhyYzSzArdjx+tO/bOzs0tOTh4zZoxYLB45cmRycvLrrBYVFX366ad9+/Y9fvy4paVlZGTk7du3maVroVDIzTfhAF0rWx9g2cdiMdVYWVk5ffp0AMbGxj/99NMrb2UyWWxsLHNBOp/PZwaVzKvc3FwjIyMDA4P79++r/4W0ABUWOxpeTaiSsAghcrl8xYoVAAwMDLZv3654fu7cuX79+jF/7e+8807D5nLmzJkAli9frv630QJUWLpBKBQyqy5hYWEPHz4MCAhgPjo4OMTGxspr51frcvPmTQAWFhZFRUWacuOVupj1X0fzUGHpjD179jATnsx/zc3N165dW15e3kSWESNGANi8ebOmfGCEVXdZWlPCop13nTF79uyEhAQvLy83Nzd/f/+MjIzPPvvM1NS0iSwhISEAoqOjpVKpptzgKu5PM/qkqEp2draih94scrm8Z8+eAA42GezAHkVHkRFCYCBJTSVHjhCZTF3LtMbSMRs3brx27RrLxDweb/HixUwuNcu9dw+FhS8/KuL+9u/HlClwccFXX6GoSI0C1FUmRQ3y8/Pv3r1bVlbGPktZWVnHjh0BXL58WeVyY2NJu3Zk8uR6Q1sm7m/DBuLkVDP8tbQkq1fnPHz4UIUiaI2lS86cOTN+/HhW+3ZqMTMzCwoKQu3eV2V58QIzZmDWLJSWwswMdQ8Ij4kBgMmTce8e4uLg44OiIpw6tdbR0XH8+PFXrlxRriSVVU9RF4mEpKSQ3FyiZGQpM1nK5/NDQkKOHz/OfmE7JYX06EEAYmFBYmNfZ5y4upLISPL8OUlNJbNmzTU0rLkOzdvb+8KFCyzLosLSHVlZZNAgYm9P2rUjjU1cvY6ysjJra2tbW1tF7dCjR48FC9ZHRZGLF4livqLhHNWBA8TAgHh4kHv3Xms8MrKmHezQgaxfn5SdnS0Wi8PDw62trQEsW7YsJyeHjZNUWLrjyhWSkUGKipStscLDwwE4OTmFhoaOGDGCiUUePnwnIwiBgAwYQBYsIDdvNjJHlZhIKiubMi6TkaQk4udHjI0rOne25/P5fn5+ly5devHiBbMwcOTIETZOUmHpDn9/4u5O2rcnZmbk3DmWmR49emRubg7g/PnzzBOpVHrr1q39+7MCA0n//oSJQra0JPfukcDAmjgxovzk540bT2fMmMG0g8zVBwsWLADr4H0qLB1x8ya5dIk8fEiqqkhpKZFIWOZ7//33AXzwwQdPnjwJCQkpKCh4JUFZGblwgRw61MgclQqz6jk5OWFhYVevXiWErF27FsCnn37KJiMVlo6IiiJDhxIHB2JkROzsyJo1bDJdunSJx+OZmppmZWXNmzePUdjrEiuElZBQU3WpuVyze/duAMx2oGahwtI1cjnJyyN5ec0mlMlkgwYNArBq1ar09HQ+n29kZHT37t3XpW84R6WmsE6dutq/f8jcua9G+zQKFZZ2USP8hjn9wcHBobS01NvbG8CKFSuaLqquYfWFdfs2AUjPnqwS0+1fWqTRi4PZUVJS8sUXXwDYuHHjf//73+TkZFtb288++6yJLM7OiIlBWRm+/hplZRo4AoQ5HC43l1ViKiwtEh/fyMmi7E5UW7NmjVgsHjp06IQJE9zd3QGsW7euQ4cOzWY0NMTq1eDz8eWXMDBQ1XMAgKUlzM1RUoKSElhYNJOYLum0AHbseLlpcceOhu///PPPrVu38vl8oVC4YcOG7OzsAQMGfPzxx2xsGxmhUyfIZHj6VAOedukCsKu0qLBaAA03ZdRn6dKllZWVc+bMsbe3//rrrwEIhUID1vWPUk1Y0wwZghEjIJezSKpWd46iFCptyjh16hQACwuLvLy8Dz/8EMD777+vVLHMcTXHjqnlu7LQGkuLqHSyaEVFhYWFxZQpU+zt7cPCwsaOHbthwwalih0wIHPEiOSiouvNJ309yp6KS4WlXRre0coM3hTExLyitsrKypKSkoMHD168eLFv377x8fFsTzGtxdDwwLlz79y7d1R999kfAkiF1dKZMmVKcHCwRCLx8/NjNuqwpLS0VCwWA+jatSuAXLU7WUpFx1Nh6QFRUVH+/v7FxcXjxo3Lzs5uNv3jx49XrVrl6Oi4fPly1AorLy9PqULT0+Hnh9LSeg9jYuqdP98EVFh6AJ/P//HHH318fHJzc8eOHVtYN1i9Punp6TNnzuzevfvq1aufPXsmFoulUqm9vT2ABw8eEHaTpIQgKgpDhyI+Hkx37smTl2/Znoqr1aECRQ2Ki4v79+8PwMvLq7S0tO4rmUyWlJSkOEREEURVUlISExPj4uJiampqZGTk6uoqFAqb3rr45MmT994LsLF5zOORf/yDlJcToZCYmJAff1Ru5ZEKS5/Izc11dHQE4OfnV11dzTzctWuXS+3Nhh06dFi+fHl2dvbDhw9DQ0MtLS2Z5w4ODoqIUzs7uzVr1uTn5ze0f/LkSaZ6Gzly+i+/kLw84uNDAMLjkU8+UW7lkQpLz8jMzGQkMn/+fObJwoULATg6OkZGRj5//jw9PT0gIEARqO7h4REbGyuVSquqqg4ePOjl5cU8NzY2DggIuH37tsJydXW1m5sbgJEjR+bk5CQmZtnYEIB07kx+/VVpP6mw9I9r164xQaTh4eGEEJFIdOjQoaqqqri4OB8fn7qtYaNbxC5cuODv789M3PN4PB8fn7i4OOa0iOvXr69bt668vDwsLMzIyKh376ujRrGJ6GkEKiy95Pjx48yJD1u2bGE6UswOaQDt27cPDg5u9txAkUgUHBxsXnssad++fWNiYiQSyR9//MEcEGdkZLRly25lNnnUgwpLX9m1axePx+Pz+Ra1kQZOTk7R0dFKnftdUFAQERHB9KsAdOzY0cTEBICzs3NKSoo67lFh6TFr164dOXIkj8djOlKK7ryyVFZWHjx40NPTUyAQWFpaTpgwgbmXQB3oZeP6jVwuv3fvnqIdVBN3d/c7d+6kpqYyMdDqQCdI9Rs+n68pVQHo0aMHNLH4AyosSl00taoIKixKXTQoLBrzTnmJs/O4ESPekcvt1TdFhUV5ibW1x7lzEGhCFLQppLxEg9HxVFiUlzDCUjJwq3HoPBalHmZmkEhQUoJ27dSyQ/tYlHosWQJjY8hk6tqhNRaFE2gfq+3S6I6uhhfHNr3N63VQYbV12O/oUgoqrDYNV/edUGFRGu7oau6MElZQYVFe3dHV3BklrKDCosDXF4DqlVOjUGFRANQ7PqIhJ04gKEi5ESKdx6I0j0gEZ2eIRIiPx5IlrLJQYVHYEhTUTMVWF9oUUlgRFITQUCXS0xqL0jyKMeOkSTU9/WahwqJwAm0KKZxAhUXhBCosCidQYVE4gQqLwglUWBROoMKicAIVFoUTqLAonECFReEEKiwKJ1BhUTiBCovCCVRYFE6gwqJwAhUWhROosCicQIVF4QQqLAonUGFROOH/DG/ERLPtxYoAAAAASUVORK5CYII=\" alt=\"Mol\"/></td>\n",
       "    </tr>\n",
       "  </tbody>\n",
       "</table>\n",
       "</div>"
      ],
      "text/plain": [
       "  Compound_name Outcome                     InChIKey ID  \\\n",
       "0    Remdesivir  Active  RWWYLEGWBNMMLJ-MEUHYHILSA-N      \n",
       "\n",
       "                                                 Mol  \n",
       "0  <img data-content=\"rdkit/molecule\" src=\"data:i...  "
      ]
     },
     "execution_count": 3,
     "metadata": {},
     "output_type": "execute_result"
    },
    {
     "name": "stdout",
     "output_type": "stream",
     "text": [
      "\n",
      " Problematic structures: \n",
      " []\n"
     ]
    }
   ],
   "source": [
    "# Columns\n",
    "print('Kept data: ', moldf.shape)\n",
    "moldf.head(1)\n",
    "from molvs.validate import Validator\n",
    "fmt = '%(asctime)s - %(levelname)s - %(validation)s - %(message)s'\n",
    "validator = Validator(log_format=fmt)\n",
    "print('\\n Problematic structures: \\n', validator.validate(moldf))"
   ]
  },
  {
   "cell_type": "markdown",
   "metadata": {},
   "source": [
    "### Calculate Morgan Fingerprints"
   ]
  },
  {
   "cell_type": "code",
   "execution_count": 4,
   "metadata": {},
   "outputs": [
    {
     "data": {
      "text/plain": [
       "(7, 2048)"
      ]
     },
     "execution_count": 4,
     "metadata": {},
     "output_type": "execute_result"
    }
   ],
   "source": [
    "def calcfp(mol,funcFPInfo=dict(radius=3, nBits=2048, useFeatures=False, useChirality=False)):\n",
    "    fp = AllChem.GetMorganFingerprintAsBitVect(mol, **funcFPInfo)\n",
    "    fp = pd.Series(np.asarray(fp))\n",
    "    fp = fp.add_prefix('Bit_')\n",
    "    return fp\n",
    "\n",
    "X_vs = moldf.Mol.apply(calcfp)\n",
    "X_vs.shape"
   ]
  },
  {
   "cell_type": "markdown",
   "metadata": {},
   "source": [
    "# Virtual screening Morgan"
   ]
  },
  {
   "cell_type": "markdown",
   "metadata": {},
   "source": [
    "##### Load the model"
   ]
  },
  {
   "cell_type": "code",
   "execution_count": 11,
   "metadata": {
    "scrolled": true
   },
   "outputs": [],
   "source": [
    "with gzip.open('model/sars-cov-3clpro-morgan_RF_ad_balanced.pgz', 'rb') as f:\n",
    "    model = cPickle.load(f)"
   ]
  },
  {
   "cell_type": "markdown",
   "metadata": {},
   "source": [
    "##### Predict molecules"
   ]
  },
  {
   "cell_type": "code",
   "execution_count": 12,
   "metadata": {},
   "outputs": [
    {
     "name": "stdout",
     "output_type": "stream",
     "text": [
      "Wall time: 191 ms\n"
     ]
    }
   ],
   "source": [
    "%%time\n",
    "ad_threshold = 0.70\n",
    "\n",
    "y_pred = model.predict(X_vs)\n",
    "ad = model.predict_proba(X_vs)\n",
    "ad = np.amax(ad, axis=1) >= ad_threshold"
   ]
  },
  {
   "cell_type": "code",
   "execution_count": 13,
   "metadata": {},
   "outputs": [],
   "source": [
    "pred = pd.DataFrame({'Prediction': y_pred,'AD': ad}, index=None)\n",
    "pred.AD[pred.AD == False] = np.nan\n",
    "pred.AD[pred.AD == True] = pred.Prediction.astype(int)"
   ]
  },
  {
   "cell_type": "code",
   "execution_count": 14,
   "metadata": {},
   "outputs": [
    {
     "name": "stdout",
     "output_type": "stream",
     "text": [
      "VS pred: Counter({0: 7})\n",
      "VS pred AD: Counter({0: 3})\n",
      "Coverage of AD: 42.86%\n"
     ]
    }
   ],
   "source": [
    "pred_ad = pred.dropna().astype(int)\n",
    "coverage_ad = len(pred_ad) * 100 / len(pred)\n",
    "\n",
    "print('VS pred: %s' % Counter(pred.Prediction))\n",
    "print('VS pred AD: %s' % Counter(pred_ad.Prediction))\n",
    "print('Coverage of AD: %.2f%%' % coverage_ad)"
   ]
  },
  {
   "cell_type": "markdown",
   "metadata": {},
   "source": [
    "###  Visualize predictions"
   ]
  },
  {
   "cell_type": "code",
   "execution_count": 15,
   "metadata": {},
   "outputs": [
    {
     "data": {
      "text/html": [
       "<div>\n",
       "<style scoped>\n",
       "    .dataframe tbody tr th:only-of-type {\n",
       "        vertical-align: middle;\n",
       "    }\n",
       "\n",
       "    .dataframe tbody tr th {\n",
       "        vertical-align: top;\n",
       "    }\n",
       "\n",
       "    .dataframe thead th {\n",
       "        text-align: right;\n",
       "    }\n",
       "</style>\n",
       "<table border=\"1\" class=\"dataframe\">\n",
       "  <thead>\n",
       "    <tr style=\"text-align: right;\">\n",
       "      <th></th>\n",
       "      <th>Compound_name</th>\n",
       "      <th>Outcome</th>\n",
       "      <th>InChIKey</th>\n",
       "      <th>ID</th>\n",
       "      <th>Mol</th>\n",
       "      <th>Prediction</th>\n",
       "      <th>AD</th>\n",
       "    </tr>\n",
       "  </thead>\n",
       "  <tbody>\n",
       "    <tr>\n",
       "      <th>0</th>\n",
       "      <td>Remdesivir</td>\n",
       "      <td>Active</td>\n",
       "      <td>RWWYLEGWBNMMLJ-MEUHYHILSA-N</td>\n",
       "      <td></td>\n",
       "      <td><img data-content=\"rdkit/molecule\" src=\"data:image/png;base64,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\" alt=\"Mol\"/></td>\n",
       "      <td>Inactive</td>\n",
       "      <td>NaN</td>\n",
       "    </tr>\n",
       "    <tr>\n",
       "      <th>1</th>\n",
       "      <td>Chloroquine</td>\n",
       "      <td>Active</td>\n",
       "      <td>WHTVZRBIWZFKQO-UHFFFAOYNA-N</td>\n",
       "      <td></td>\n",
       "      <td><img data-content=\"rdkit/molecule\" src=\"data:image/png;base64,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\" alt=\"Mol\"/></td>\n",
       "      <td>Inactive</td>\n",
       "      <td>NaN</td>\n",
       "    </tr>\n",
       "    <tr>\n",
       "      <th>2</th>\n",
       "      <td>Ribavirin</td>\n",
       "      <td>Inactive</td>\n",
       "      <td>IWUCXVSUMQZMFG-AFCXAGJDSA-N</td>\n",
       "      <td></td>\n",
       "      <td><img data-content=\"rdkit/molecule\" src=\"data:image/png;base64,iVBORw0KGgoAAAANSUhEUgAAAMgAAADICAIAAAAiOjnJAAAABmJLR0QA/wD/AP+gvaeTAAAX20lEQVR4nO2de1CU1/nHvy8siCDXwXhB0CSYqEEz46WGRSMalS4qUUlIjKjpWJdMp4Omo/mlHdq1E9JxalMXe0mhpik2eImXiDi7RCqJohussUl00UQxoqABDETB5b57fn+822V32RvLe9nlPZ/ZP9jnPXueZ+HLec573nNhCCGgULgmQOwAKMMTKiwKL1BhUXjBG2GlpIBhUFtrY8zJQUpKfwHLz9afGmgUDq0WDNP/0mrFC0USeN9i7dzJYRg8k5OD9HRoNCAEhECjQXo6cnLEDms446WwlEoUFdk3Wj6KVouiImg0UCjMFoUCGg2Kimi7xR/et1hqNTZs4DAS3sjPh1zeryoWhQJyOfLzRYpp+OO9sDZvhk7nD//zOh2SkhzYk5Kg0wkejVQY0l2hRuP0f16ns+krM4xQf8S+PhQVISMD7MAvm62nTXNQkjX6Rzr3P4YkLDa9FBQ4uCSXmzvKlpdcPhRXnnHyJJ5+Gjk5KCtDRQX//ihOGeo4Vl4etmzhJJKhUVuLrCykpeHKFSQm4sMPsXQpACQmAsCVKw4+whrZAhSukQ3x8woFlErHjZZAGAzYuRM7dqC7G2Fh2LoVb76JkJD+AnI59HoHH9TrBWlFJQoHI+/btmHLFsd/O2fU1nIxVEkI9u5FYiJ++1v09GDdOtTWYvt2G1UByMtzcJeh1UKnQ16et74p7iCDRy4nSqWNRakkAJHL+wtYfrb+lMUIEI2GEEI0GgKQ69cHHUNVVVXzqlUEIACZN498/rmDQq2t5B//IIQQtbrfpcWr3XegcAo3wiJkEMLSaPqv9vaSyZPJiROD8N7Q0LBu3TqGYdZMmUISEkhxMTGZ7AsZjaS4mDzyCAHIp58SQsj162YVsi8vtEwZDN4Ii0P+/GcCkPh4otW6L2wwGFQqVWhoKIDQ0FCVStVtMDgod+oUmTHDLKCFC4lez3nYFLeILKxNm0hIiFkDmZnk22+dljx+/PikSZPY9L18+fKbN286KHT7Nlm3zlxdfDwpLuYtcIobxBQW2/Pp7CT5+SQsjAAkJIT86lfk4UOb1Hbx4sX58+ezkpo5c+aZM2cc1PXwIVGpzCINDSUqFensFOhrUBwhmrBYVVm6OnfuEKWSBASQ2NimJ5+cWlhYaDQaOzs7N27cGBAQAGDMmDF79uwxGo129ZhMJkNJCRk/ngCEYcj69eTOHaG/DGUA4giLVdVAPvuMZGebHxLNnTu3urp66dKlQUFBubm59+/fH1j+woULcrk8/0c/IgCZPZucO8d76BTPEEFY7P2Zs9syk8n04YcfJiQkAGAY5sc//vGn7G2dLQ0NDdnZ2QzDAIiLi/vhwAEH94YU8RBBWOygl/XLMsBkob29/Ze//GVISAiAUaNG6a3u7Lq7u9VqdXh4OIDg4ODc3Ny2tjZBvwDFA0S+K3TN7du3s7KyYmJiNm3axFqOHz/+6KOPWu4Nb9y4IW6EFGf4tLAIIfX19Wyyu3LlSlpaGiupqVOnlpeXix0axRVDfQgtGFlZWXq9fvTo0W+99dZPf/rTwMBAsSOiuMJvhPXOO+9otVqVShUVFSV2LBT3MMS3l9g3NDTEx8fHxcU1NDSIHQtlENAFqxReoMKi8AIVFoUXqLAovECFReEFKiwKL1BhUXiBCovCC1RYFF6gwqLwAhUWhReosCi8QIVF4QUqLAovUGFReIEKi8ILVFgUXqDCovACFRaFF6iwKLxAhUXhBSosCi9QYVF4waeFRQg5ePBgTExMZ2enRqMROxzKYBB7jb9Tmpubly9fbomTYZitW7d2d3eLHRfFI3xUWJWVlXFxcQAiIyP379+vVquDg4MBzJo169q1a2JHR3GPzwmrt7dXpVKxe34sWLCgvr6etV+4cCExMRFAeHh4YWGhuEFS3OJbwqqrq0tJSQEgk8lUKlVfX5/11ba2tuzsbDYzvvjiiz/88INYcVLc4kPCOnz4cHR0NICEhATHWyMTQggpLi4eNWoUgIkTJ56jm476Kj4hrPZ28uabN9im6IUXXrBrigbulPzNN9/MnDkTQETEmF27DAOuU8RHfGFdvEieeIIAZNGi4qKiIrurra2t06dP379/v529u7v7F7/4xbPP1gBk0SK6A7fPIaawTCaiVpMRIwhApk0jly45KLNjxw62JXvttdc6OjrsrlZUkHHjCEBGjyZlZULETPEQ0YTV3EyWLTPvmrxuHXF4KA5LcXExe37O1KlTv/zyS7urTU1EoTAfHpCbS7q6+A2b4iHiCOvUKfNRElFR5OBB9+VramqmT58OICQkRK1Wm2y3dGdbvuBgApCkJHL5Ml9hUzxHaGH19hKVigQEEICkppKGBk8/aDAYNm3axKbF3Nyqlhb7AhcukMREApCRI4lazW3UlEEjqLAePCDs6SQyGXnrLWI7SuURhw4dSkn5v8BAMmECGXhgxYMH5JVXzOn11Vc5CZniJdwLSy53cKKJUmk+/HLNGpKQQKqqvK//9m0yfz4BSEAAyc0lPT32BYqLyahR5I9/dBMJhVf4mt2wc6dj+7vv4quvMG+e9zXHx+OTT6BSgWGwezfmzcO339oUWL8eNTXYssVNJBRe4UVYSiWKilBb6+BSZCSGvk97YCC2b8epU5gwAf/5D2bPRlmZTYGEBDCMm0govMJXi6VWY8MGnuo2s2AB9Hq89BIePEBoqJiRUAbCl7A2b4ZOB62Wp+rNREbiwAHodHjuOZEjodjB4wxSjQb5+fxV38/cub4SCcUCj8JSKACgoIA/D57iO5FIB37nvOfl9d+diYvvRCIR+BWWQgGl0ieaCt+JRCLwfqzctm2YPBlyOd9+/CkSKcD78q/ERCiV0On49uNPkUgBIdYVslOquroEcGXPd9+hrAzd3ea3hYUixCBNuBfWuXP2f7833wSAjAwbY1sb9u9HWxvn/m0i6e1FRgb27es3EoJz53h0SmERosXKzASAI0dsjC+8gFdewYkTPPq9fx+VlQgKwvPP8+iF4hAhhLVwIWJicPkyvv6638j+se3Uxi2lpejpMXunCIwQwgoKMufBjz7qN2ZmIiAA5eUwGPjyy6qWbS8pAiPQpiADs+HYsXjmGXR0oLycF4/t7aioQECAfd+OIgwCCWvJEkRE4OJFm7lTDvteXHHiBLq6MH8+xo7lpX6KawQS1ogRWLYMAI4d6zeuXg2GQVkZLyMRNA+Ki3D7Yw1snyZNQnKy6amnGj/99DK3vtgMyzBYuZLbiimeIpywFAqEheGzz9DQ0G9csWLn+fPjDhx4h1tfWi0MBjzzDOLjua2Y4inCCSs0FKtW9cjlN0+ePG0xZmauBlBaWtrT08OhL5oHxUfIlRslJSUAUlNTrY3sStSPP/6YKy9dXSQiggDkxg2uqqQMGkH3IF2xYkVISEhVVVVzc7PFmJmZCeAIdzeHFRVoa8OsWXjsMa6qpAwaQYUVHh6+ePFio9FYWlpqMbLCOnr0aF9fHyde5s7FX/6CrVs5qYziLQK3kO+//z6AtLQ0a+OUKVMAfPLJJwIHQ+EPobfjXrlyZXBwcGVlZWtrq8WYlZW1ePFimYz3WYcU4RBey0uWLAHwz3/+k6sK6VJ6H0SEAwQ4762z0KX0PoU4wpLJZCdPnmzjbpofXUrva4jQrYmNjU1JSTl9+vTWrVvnzJnjomRw8Es9PREuCjzxBBYsMP/MLqWns0N9BVES8J49e5KTk93GlpBwnd3sytlrwwZCCJHLiVJJCCEA0WjMLmgfS1zEuRHbuHHjjBkzioqKXBcbNSry4UNXBVJSbN6yS+nZdc8UcRHtDn/OnDmu86AXKBTIz0dBATZv5rZiyqDx6WPlvIAupfcRhpuwnC2lv3aN7mQkKMNNWAC2bcOWLdDr+y3FxZg3D999J15M0mMYPkVhl9IXFUEuR3s7fvYzXLyIigo8/bTYkUmJYdhi4X9L6R8+xMyZYBhcuEBVJThij3fwAntWxejR5MCBfmNTE1m/nnz/vXhhSYlh2GI1N2PZMhw4gPPn8dJLZmNlJWbORFQUIlyN5FM4Y7gJq68P8+dj7lycPYtHHzVbtm9Hdjbeew8FBQgKEjtEaTDcOu8yGaqrER1tfltXh7VrMWoU/vvf/pWrJhMChts/lM8xDH/BFlUdOoTkZGRlobzcrKqODmzahF//WsTopMJwa7GsqalBeXn//WBNDdaswZQpdOaWEDCEELFjEIK9e/HGG/jDH5CdLXYo0mA4t1gWNm/GZ5/h3Dk8/rjZcufOnbi4OFGDGuZIosW6dQvjx5vvB41G49tvv/33v//9ypUr4eHhYoc2bJFEizVxovmH+vr67OxsmUx2/vx5qipekUSLZeHdd9998ODBG2+8EUDHG3hGWsKy5ptvvjGZTFOnTuWyUq0W6en9bzUayc5nleg/bkVFxfz582tqarisNCcH6enQaEAICIFGg/R05ORw6cKPEPdRpVjcu3evpqaGyxo1Gpu1HC6M0kC6qZClvb39I+vNnB2xRiYLcr1hSWoq1qwB4GD1GbveQ4Kr0sRWtpjU1ta+/vrrbn9FxthYV2vQAHL4MAHMa9DsUCqJJH/JkhhucMbBgwd37dr1+OOPy12eCdY3cmRwZ6erith7zGnTHFxijbW1SEz0PlA/RNLCYvePKCgoWMZu6ew1dG3/ACR6Vwigrq7uiy++CA8Pf87FSeUewrZGV644uMQaJdZcQcrCOnz4MCEkIyMjJCSEg+rkcpuFQRb0emmevSldYbF5MJOrrZXz8qDT2a9d1Gqh0yEvjxsX/oXYdw/i0NDQwDBMaGjow4cPOatUrbYZtWIHsRzeKkoAiXbejx49SghJT08PCwvjrNLNm7FsGSZP7recPg1O96/3IyQqLI7zoIXERFgGnG/cwOTJiI3Fd98hMJBjRz6PFEfem5qa4uLiZDJZc3NzBK/LwaZNw9WrqKzEwoU8evFJpNh5P3bsmNFoTEtL41dVAFavBng+RtZXkaKw+MqDA7GceGYy8e7Lx5BcKrx///6YMWMIIY2NjTECHBadmIgbN3D2rP3ug8MdybVYH330UU9Pz6JFi4RQFXwpG2q1YJj+l92QW0qKA+k7NHqG5IQlXB5kYR0dPgxxM4PwkxDFHUYTmLa2tpCQkMDAwKamJoFcmkwkIYEA5MIFgTwOxJNJiHK5g12mHRo9Q1otVllZWVdX17PPPvvII48I5NJyfrCI2TA/H3K5/ex7hQJyOfLzefIpLWEJnQdZMjPvjB37j+vXBXVqjU6HpCQH9qQk6HQ8+ZSQsDo6Oj7++GOGYZ5//nkh/ZJ58+YwzMYjRy5duiSkXzPsXDHXkxBZdDqb3j3DDEV2EhKWRqMxGAzJyckTJkwQ0i8TEMBKmfNzqThGLjd37S2vIUz4kZCwxMmDAHg78MwjRJqEKBVhdXd3azQaACvZrrSwpKamxsbG1tTUXL16VXjvokxClIqw2FPsZs+e/ZgYR5DLZLKMjAwAR48eFd67KJMQpSIsEfMgi5jZUKHArl1IT+/XFrsVgFLJ4w4A3g1/+Rc9PT3sA5yvv/5axBiio6MB1NbWCu37zh0yaxYpLrZZC2l31DHXA6SSEFZ5eTmA6dOnixvG2rVrAfz+978X1OulSyQujgBkwQIh3frhDNKeHjQ0oKcHBoPdlfre3rsM097ebmffvXs3RM2DLJmZmSUlJUeOHNm2bZtALqursXw5WlqQmopjxwRyCsAvpybn5pqPNBlADMP8jJATji4FBwc3NTUZjcZA8WYJd3V1BQcHJyUlmUwmITboKi3FmjXo7MSqVdi3D5yscvMcIZtHDjAaSUyMi20UPnfyNRmGAbBw4cKGhgbho25vb//JT37CRrJz507rS7t377516xb3Lt97j8hkBCA//zkxGrmv3x3+JixCyIYNLoRlBMbZSioyMrKkpOTUqVPjx48HEBsbW1paKmS8ly9fTkpKAjBy5Ei1Wm19yWAwREZG3rt3z2Jpb29funSp0UoKvb29xsEow2Qy9W3fTgDCMOR3vxt6/N7hh8I6ftz13i+vWakqOTn5xo0b7Oeam5uXL1/O2tetW2cwGPiO1GQyqdXqESNGAJg2bdqlS5fsCnz//fd/+9vfrC0HDhxQKBTWln379q1du9baUltb29ra6tBjX19fTk7Ob+fMISNGkKIiLr6El/ihsLq6SESEC2FVAACCgoLefvvtvr4+64+6/UtziHc6fvHFF/fs2WNtWb169fvvv29tycjI+Ne//mVt2bt3b0tLi8FgWLFiBYCwsLCakyeH/A2GhKjCYueaWV52M9FcjKysWeNCWD8AiYmJ58+fd+ZWr9c7y01cYZ15jx8/7uGnOjo6IiMjm5ubLRY2V7a0tFgs7e3tERER1i1WW1tbZGTkrVu35s2bByAmJubs2bNcfRGvEU9Y7I5kLhakuxAWu9GZk9cXaWltbW2unXd0dOTm5rLNyapVq6z/ckOkt7dXpVKxN32DvVfo6+u7ePGiteXQoUNLly61tgzMlR988MGSJUtmzJgBYOLEiVevXh1K/FwhkrCGOFnWYCBhYQ5UFR1NDh70PIrDhw+zo+EJCQlnzpwZyhdiqaurY/dwk8lkKpXKLhF7wcsvv1xYWGhtGZgrFy9ezD5XeOqpp+rr64fokStEEpazZwXWdtcPGTIz7VWVnEz+10/3nLq6upSUFE6kcOjQoaioKFamVVVVXtdjwWg0Tpw4sbGx0WIZmCurq6vZkZTU1NT79+8P3SlXiCQsT3bsdC2sffv6JRUURPLzibeaYJMXO3C6YMECL/7p29ralEolm1gzMzOd3bJ5F5v126NHjz733HPWlpKSkqioqJUrV3Z0dHDllBPEENb16wQgDnvN7E5A7PNRudxxL4oV1oMH5gHAsWOJ836651RWVrLHNkVGRh4cTD79/PPPJ0+ezOutgIW1a9f+9a9/tba8/PLLBQUFgxroEgbfFpbr5+0dHeSDD8iDB1zFde/ePfZ23cMBAnbwIjg4mO3fXL58matInPHqq6/evXvX8rarqys6Olq4pWyDwW9TIT+YTKbCwsKRI0eyA11fffWVs5LNzc3slrgMwyiVSlEyUWlpaWpqqvB+PcFvO+98otfrp0+fDiAkJMRhdvv3v/89btw4dpiqrKyM73icsX79+j/96U9ieXeNfw438I+zga6hDFNxTklJiXVm9CnEGyB1u2OnqMJiOXLkCDvQFR8ff/r06Zs3byYnJ1vGJnywy+w7iPpIh+3FCzVZ1jssYgoMDGQ37n7ssceqq6uFjMEf8cOH0ILT29v7m9/8RiaThYSEKBQKDoephjFSWaUzFNjFW319fV1dXVlZWWxypLiGCssjTp8+zf5w5swZcSPxF6iwPKKqqor9gQrLQyS3B6kXEEJGjx7d0tLCvq2vrxd4WxF/hLZY7tHr9RZVgTZankGF5R47JVnSIsUFVFjusROWpSNPcQHtY7knLi7u7t27lrcMwzQ2Ngq3i6l/QlssN1y7ds1aVQAIITQbuoUKyw1fajQXgDag9X+veuD7ffvEjsvX8cO9G4Rl5cmTwbaWaGCDw50XKVbQPpY7Jk3CrVv2xoAAtLQgKkqMgPwDmgpdcvu2A1UBMJlw9qzg0fgTVFgucTGyQPvvLqHCcomLQXY6muUS2sdyyZNP4to1x5dkMrS2Ijxc2ID8BtpiOaex0amqAPT1obpawGj8DCos57h92Ey7Wc6hwnKOW2FVVgoSh19C+1jOefppuD6vKzAQDx8KvWmsn0BbLCeYTGhsdFMmMBBW87Qo1tBHOk4ICMC+fdixw2mBzk68/jri4gSMyZ+gqZDCCzQVOkKrtTlo1O7crJQUpKTYf8ShUcJQYQ0gJwfp6dBozKeMajRIT0dOjthh+RlUWLZotSgqgkbTf96aQgGNBkVF9u0WxSW0j2ULm87OnXNld1jG2QelCm2xbNHpkJTkwJ6UNJQj3SUIFZYVtbUAMG2ag0uskS0AQKez6d0zDJWdHVRYXiGXm7v2lhdvp3b7KVRYViQmAoDD+eyskS1A8QAqLFvkcuj1Dux6PW2TBgUVli15edDp7EcWtFrodMjLEykmv4QKyxaFAmo10tP7taXVIj0dSmX/yBbFA+hD6AFs3oxlyzB5cr/l+nXauxosdICUwgs0FVJ44f8Bzuz+Lo2Ni3wAAAAASUVORK5CYII=\" alt=\"Mol\"/></td>\n",
       "      <td>Inactive</td>\n",
       "      <td>Inactive</td>\n",
       "    </tr>\n",
       "    <tr>\n",
       "      <th>3</th>\n",
       "      <td>Penciclovir</td>\n",
       "      <td>Inactive</td>\n",
       "      <td>JNTOCHDNEULJHD-UHFFFAOYSA-N</td>\n",
       "      <td></td>\n",
       "      <td><img data-content=\"rdkit/molecule\" src=\"data:image/png;base64,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\" alt=\"Mol\"/></td>\n",
       "      <td>Inactive</td>\n",
       "      <td>Inactive</td>\n",
       "    </tr>\n",
       "    <tr>\n",
       "      <th>4</th>\n",
       "      <td>Nitazoxanide</td>\n",
       "      <td>Active</td>\n",
       "      <td>YQNQNVDNTFHQSW-UHFFFAOYSA-N</td>\n",
       "      <td></td>\n",
       "      <td><img data-content=\"rdkit/molecule\" src=\"data:image/png;base64,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\" alt=\"Mol\"/></td>\n",
       "      <td>Inactive</td>\n",
       "      <td>NaN</td>\n",
       "    </tr>\n",
       "    <tr>\n",
       "      <th>5</th>\n",
       "      <td>Nafamostat</td>\n",
       "      <td>Inactive</td>\n",
       "      <td>MQQNFDZXWVTQEH-UHFFFAOYSA-N</td>\n",
       "      <td></td>\n",
       "      <td><img data-content=\"rdkit/molecule\" src=\"data:image/png;base64,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\" alt=\"Mol\"/></td>\n",
       "      <td>Inactive</td>\n",
       "      <td>NaN</td>\n",
       "    </tr>\n",
       "    <tr>\n",
       "      <th>6</th>\n",
       "      <td>Favipiravir</td>\n",
       "      <td>Inactive</td>\n",
       "      <td>ZCGNOVWYSGBHAU-UHFFFAOYSA-N</td>\n",
       "      <td></td>\n",
       "      <td><img data-content=\"rdkit/molecule\" src=\"data:image/png;base64,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\" alt=\"Mol\"/></td>\n",
       "      <td>Inactive</td>\n",
       "      <td>Inactive</td>\n",
       "    </tr>\n",
       "  </tbody>\n",
       "</table>\n",
       "</div>"
      ],
      "text/plain": [
       "  Compound_name   Outcome                     InChIKey ID  \\\n",
       "0    Remdesivir    Active  RWWYLEGWBNMMLJ-MEUHYHILSA-N      \n",
       "1   Chloroquine    Active  WHTVZRBIWZFKQO-UHFFFAOYNA-N      \n",
       "2     Ribavirin  Inactive  IWUCXVSUMQZMFG-AFCXAGJDSA-N      \n",
       "3   Penciclovir  Inactive  JNTOCHDNEULJHD-UHFFFAOYSA-N      \n",
       "4  Nitazoxanide    Active  YQNQNVDNTFHQSW-UHFFFAOYSA-N      \n",
       "5    Nafamostat  Inactive  MQQNFDZXWVTQEH-UHFFFAOYSA-N      \n",
       "6   Favipiravir  Inactive  ZCGNOVWYSGBHAU-UHFFFAOYSA-N      \n",
       "\n",
       "                                                 Mol Prediction        AD  \n",
       "0  <img data-content=\"rdkit/molecule\" src=\"data:i...   Inactive       NaN  \n",
       "1  <img data-content=\"rdkit/molecule\" src=\"data:i...   Inactive       NaN  \n",
       "2  <img data-content=\"rdkit/molecule\" src=\"data:i...   Inactive  Inactive  \n",
       "3  <img data-content=\"rdkit/molecule\" src=\"data:i...   Inactive  Inactive  \n",
       "4  <img data-content=\"rdkit/molecule\" src=\"data:i...   Inactive       NaN  \n",
       "5  <img data-content=\"rdkit/molecule\" src=\"data:i...   Inactive       NaN  \n",
       "6  <img data-content=\"rdkit/molecule\" src=\"data:i...   Inactive  Inactive  "
      ]
     },
     "execution_count": 15,
     "metadata": {},
     "output_type": "execute_result"
    }
   ],
   "source": [
    "predictions = pd.concat([moldf, pred], axis=1)\n",
    "for col in ['Prediction', 'AD']:\n",
    "    predictions[col].replace(0,'Inactive',inplace=True)\n",
    "    predictions[col].replace(1,'Active',inplace=True)\n",
    "\n",
    "predictions"
   ]
  },
  {
   "cell_type": "markdown",
   "metadata": {},
   "source": [
    "## Export SDF"
   ]
  },
  {
   "cell_type": "code",
   "execution_count": 16,
   "metadata": {},
   "outputs": [],
   "source": [
    "PandasTools.WriteSDF(predictions, 'datasets/screened_compounds/wang_et_al_qsar_pred-morgan.sdf.gz',\n",
    "                     molColName='Mol', properties=list(predictions.columns))"
   ]
  }
 ],
 "metadata": {
  "kernelspec": {
   "display_name": "rdkit-env",
   "language": "python",
   "name": "rdkit-env"
  },
  "language_info": {
   "codemirror_mode": {
    "name": "ipython",
    "version": 3
   },
   "file_extension": ".py",
   "mimetype": "text/x-python",
   "name": "python",
   "nbconvert_exporter": "python",
   "pygments_lexer": "ipython3",
   "version": "3.8.2"
  }
 },
 "nbformat": 4,
 "nbformat_minor": 2
}
